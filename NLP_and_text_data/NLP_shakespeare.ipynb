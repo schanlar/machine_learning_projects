{
 "cells": [
  {
   "cell_type": "markdown",
   "id": "8e173313",
   "metadata": {},
   "source": [
    "# Text Generation with Neural Networks\n",
    "\n",
    "In this notebook we will create a network that can generate text, here we show it being done character by character."
   ]
  },
  {
   "cell_type": "code",
   "execution_count": 1,
   "id": "314a6fc9",
   "metadata": {},
   "outputs": [
    {
     "name": "stderr",
     "output_type": "stream",
     "text": [
      "2024-01-03 17:44:41.795926: I tensorflow/core/platform/cpu_feature_guard.cc:182] This TensorFlow binary is optimized to use available CPU instructions in performance-critical operations.\n",
      "To enable the following instructions: AVX2 AVX512F AVX512_VNNI FMA, in other operations, rebuild TensorFlow with the appropriate compiler flags.\n",
      "/Users/schanlar/opt/anaconda3/lib/python3.9/site-packages/scipy/__init__.py:146: UserWarning: A NumPy version >=1.16.5 and <1.23.0 is required for this version of SciPy (detected version 1.26.2\n",
      "  warnings.warn(f\"A NumPy version >={np_minversion} and <{np_maxversion}\"\n"
     ]
    }
   ],
   "source": [
    "import numpy as np\n",
    "import pandas as pd\n",
    "import matplotlib.pyplot as plt\n",
    "import tensorflow as tf\n",
    "\n",
    "%matplotlib inline"
   ]
  },
  {
   "cell_type": "markdown",
   "id": "5e95d560",
   "metadata": {},
   "source": [
    "## The Data\n",
    "\n",
    "You can grab any free text you want from here: https://www.gutenberg.org/\n",
    "\n",
    "We'll choose all of shakespeare's works, mainly for two reasons:\n",
    "\n",
    "1. Its a large corpus of text, its usually recommended you have at least a source of 1 million characters total to get realistic text generation.\n",
    "\n",
    "2. It has a very distinctive style. Since the text data uses old style english and is formatted in the style of a stage play, it will be very obvious to us if the model is able to reproduce similar results."
   ]
  },
  {
   "cell_type": "code",
   "execution_count": 2,
   "id": "e4e42303",
   "metadata": {},
   "outputs": [],
   "source": [
    "path_to_file = 'DATA/shakespeare.txt'"
   ]
  },
  {
   "cell_type": "markdown",
   "id": "d7b4d860",
   "metadata": {},
   "source": [
    "### Understanding unique characters"
   ]
  },
  {
   "cell_type": "code",
   "execution_count": 3,
   "id": "c584ca71",
   "metadata": {},
   "outputs": [],
   "source": [
    "def get_vocab(file, lower=False):\n",
    "    with open(file, 'r') as fopen:\n",
    "        data = fopen.read()\n",
    "    if lower:\n",
    "        data = data.lower()\n",
    "    vocab = sorted(set(data))\n",
    "    return data, vocab"
   ]
  },
  {
   "cell_type": "code",
   "execution_count": 4,
   "id": "d8d1992e",
   "metadata": {},
   "outputs": [],
   "source": [
    "text, vocab = get_vocab(path_to_file)"
   ]
  },
  {
   "cell_type": "code",
   "execution_count": 5,
   "id": "cfcaaccb",
   "metadata": {},
   "outputs": [
    {
     "name": "stdout",
     "output_type": "stream",
     "text": [
      "\n",
      "                     1\n",
      "  From fairest creatures we desire increase,\n",
      "  That thereby beauty's rose might never die,\n",
      "  But as the riper should by time decease,\n",
      "  His tender heir might bear his memory:\n",
      "  But thou contracted to thine own bright eyes,\n",
      "  Feed'st thy light's flame with self-substantial fuel,\n",
      "  Making a famine where abundance lies,\n",
      "  Thy self thy foe, to thy sweet self too cruel:\n",
      "  Thou that art now the world's fresh ornament,\n",
      "  And only herald to the gaudy spring,\n",
      "  Within thine own bu\n"
     ]
    }
   ],
   "source": [
    "print(text[:500])"
   ]
  },
  {
   "cell_type": "code",
   "execution_count": 6,
   "id": "c325480a",
   "metadata": {},
   "outputs": [
    {
     "data": {
      "text/plain": [
       "['\\n',\n",
       " ' ',\n",
       " '!',\n",
       " '\"',\n",
       " '&',\n",
       " \"'\",\n",
       " '(',\n",
       " ')',\n",
       " ',',\n",
       " '-',\n",
       " '.',\n",
       " '0',\n",
       " '1',\n",
       " '2',\n",
       " '3',\n",
       " '4',\n",
       " '5',\n",
       " '6',\n",
       " '7',\n",
       " '8',\n",
       " '9',\n",
       " ':',\n",
       " ';',\n",
       " '<',\n",
       " '>',\n",
       " '?',\n",
       " 'A',\n",
       " 'B',\n",
       " 'C',\n",
       " 'D',\n",
       " 'E',\n",
       " 'F',\n",
       " 'G',\n",
       " 'H',\n",
       " 'I',\n",
       " 'J',\n",
       " 'K',\n",
       " 'L',\n",
       " 'M',\n",
       " 'N',\n",
       " 'O',\n",
       " 'P',\n",
       " 'Q',\n",
       " 'R',\n",
       " 'S',\n",
       " 'T',\n",
       " 'U',\n",
       " 'V',\n",
       " 'W',\n",
       " 'X',\n",
       " 'Y',\n",
       " 'Z',\n",
       " '[',\n",
       " ']',\n",
       " '_',\n",
       " '`',\n",
       " 'a',\n",
       " 'b',\n",
       " 'c',\n",
       " 'd',\n",
       " 'e',\n",
       " 'f',\n",
       " 'g',\n",
       " 'h',\n",
       " 'i',\n",
       " 'j',\n",
       " 'k',\n",
       " 'l',\n",
       " 'm',\n",
       " 'n',\n",
       " 'o',\n",
       " 'p',\n",
       " 'q',\n",
       " 'r',\n",
       " 's',\n",
       " 't',\n",
       " 'u',\n",
       " 'v',\n",
       " 'w',\n",
       " 'x',\n",
       " 'y',\n",
       " 'z',\n",
       " '|',\n",
       " '}']"
      ]
     },
     "execution_count": 6,
     "metadata": {},
     "output_type": "execute_result"
    }
   ],
   "source": [
    "vocab"
   ]
  },
  {
   "cell_type": "code",
   "execution_count": 7,
   "id": "8ac6ff98",
   "metadata": {},
   "outputs": [
    {
     "name": "stdout",
     "output_type": "stream",
     "text": [
      "5445609 84\n"
     ]
    }
   ],
   "source": [
    "print(len(text), len(vocab))"
   ]
  },
  {
   "cell_type": "markdown",
   "id": "22426998",
   "metadata": {},
   "source": [
    "Our datafile consists of 5445609 characters in total as combinations of 84 unique characters."
   ]
  },
  {
   "cell_type": "markdown",
   "id": "35b345a7",
   "metadata": {},
   "source": [
    "## Text Processing\n",
    "\n",
    "We know a neural network can't take in the raw string data, we need to assign numbers to each character. Let's create two dictionaries that can go from numeric index to character and character to numeric index."
   ]
  },
  {
   "cell_type": "code",
   "execution_count": 8,
   "id": "b099d065",
   "metadata": {},
   "outputs": [
    {
     "name": "stdout",
     "output_type": "stream",
     "text": [
      "(5445609, 84)\n"
     ]
    }
   ],
   "source": [
    "def embed_to_onehot(data, vocab):\n",
    "    onehot = np.zeros((len(data), len(vocab)), dtype = np.float32)\n",
    "    for i in range(len(data)):\n",
    "        onehot[i, vocab.index(data[i])] = 1.0\n",
    "    return onehot\n",
    "\n",
    "onehot = embed_to_onehot(text, vocab)\n",
    "print(onehot.shape) # too many unique chars for one hot encoding them all"
   ]
  },
  {
   "cell_type": "markdown",
   "id": "50dc3ced",
   "metadata": {},
   "source": [
    "There are too many unique characters and things will get out of hand really fast if we try to one-hot-encode them all. We can use a differend kind of mapping to go back and forth from characters to numerics."
   ]
  },
  {
   "cell_type": "code",
   "execution_count": 9,
   "id": "fdbc83fa",
   "metadata": {},
   "outputs": [
    {
     "name": "stdout",
     "output_type": "stream",
     "text": [
      "76\n",
      "d\n"
     ]
    }
   ],
   "source": [
    "# Use dictionary comprehension to construct a character to numeric-index kind of map\n",
    "char_to_idx = {char:idx for idx, char in enumerate(vocab)}\n",
    "\n",
    "# The opposite is as simple as an array of characters, each one with its own numeric-index location\n",
    "idx_to_char = np.array(vocab)\n",
    "\n",
    "# Numeric index of the letter 'u'\n",
    "print(char_to_idx.get('u'))\n",
    "\n",
    "# Letter that corresponds to index 59\n",
    "print(idx_to_char[59])"
   ]
  },
  {
   "cell_type": "code",
   "execution_count": 10,
   "id": "a0e9b04c",
   "metadata": {},
   "outputs": [],
   "source": [
    "encoded_text = np.array([char_to_idx[c] for c in text])"
   ]
  },
  {
   "cell_type": "code",
   "execution_count": 11,
   "id": "67b47913",
   "metadata": {},
   "outputs": [
    {
     "data": {
      "text/plain": [
       "array([ 0,  1,  1, ..., 30, 39, 29])"
      ]
     },
     "execution_count": 11,
     "metadata": {},
     "output_type": "execute_result"
    }
   ],
   "source": [
    "encoded_text"
   ]
  },
  {
   "cell_type": "markdown",
   "id": "77b19344",
   "metadata": {},
   "source": [
    "Here's what this char-to-numeric map looks like:"
   ]
  },
  {
   "cell_type": "code",
   "execution_count": 12,
   "id": "fdf2491f",
   "metadata": {},
   "outputs": [],
   "source": [
    "sample = text[:20]"
   ]
  },
  {
   "cell_type": "code",
   "execution_count": 13,
   "id": "e8d95cd1",
   "metadata": {},
   "outputs": [
    {
     "data": {
      "text/plain": [
       "'\\n                   '"
      ]
     },
     "execution_count": 13,
     "metadata": {},
     "output_type": "execute_result"
    }
   ],
   "source": [
    "sample"
   ]
  },
  {
   "cell_type": "code",
   "execution_count": 14,
   "id": "fead933f",
   "metadata": {},
   "outputs": [
    {
     "data": {
      "text/plain": [
       "array([0, 1, 1, 1, 1, 1, 1, 1, 1, 1, 1, 1, 1, 1, 1, 1, 1, 1, 1, 1])"
      ]
     },
     "execution_count": 14,
     "metadata": {},
     "output_type": "execute_result"
    }
   ],
   "source": [
    "encoded_text[:20]"
   ]
  },
  {
   "cell_type": "markdown",
   "id": "1347a041",
   "metadata": {},
   "source": [
    "## Creating Batches\n",
    "\n",
    "Overall what we are trying to achieve is to have the model predict the next highest probability character given a historical sequence of characters. Its up to us (the user) to choose how long that historic sequence should be. Too short a sequence and we don't have enough information (e.g. given the letter \"a\" , what is the next character) , too long a sequence and training will take too long and most likely overfit to sequence characters that are irrelevant to characters farther out. While there is no correct sequence length choice, we should consider the text itself, how long normal phrases are in it, and a reasonable idea of what characters/words are relevant to each other."
   ]
  },
  {
   "cell_type": "code",
   "execution_count": 15,
   "id": "59aa358c",
   "metadata": {},
   "outputs": [
    {
     "name": "stdout",
     "output_type": "stream",
     "text": [
      "\n",
      "                     1\n",
      "  From fairest creatures we desire increase,\n",
      "  That thereby beauty's rose might never die,\n",
      "  But as the riper should by time decease,\n",
      "  His tender heir might bear his memory:\n",
      "  But thou contracted to thine own bright eyes,\n",
      "  Feed'st thy light's flame with self-substantial fuel,\n",
      "  Making a famine where abundance lies,\n",
      "  Thy self thy foe, to thy sweet self too cruel:\n",
      "  Thou that art now the world's fresh ornament,\n",
      "  And only herald to the gaudy spring,\n",
      "  Within thine own bu\n"
     ]
    }
   ],
   "source": [
    "print(text[:500])"
   ]
  },
  {
   "cell_type": "code",
   "execution_count": 16,
   "id": "d7079aef",
   "metadata": {},
   "outputs": [],
   "source": [
    "line = \"From fairest creatures we desire increase\""
   ]
  },
  {
   "cell_type": "code",
   "execution_count": 17,
   "id": "ce53a683",
   "metadata": {},
   "outputs": [
    {
     "data": {
      "text/plain": [
       "41"
      ]
     },
     "execution_count": 17,
     "metadata": {},
     "output_type": "execute_result"
    }
   ],
   "source": [
    "len(line)"
   ]
  },
  {
   "cell_type": "code",
   "execution_count": 18,
   "id": "e89e7c98",
   "metadata": {},
   "outputs": [],
   "source": [
    "lines = \"\"\"\n",
    "From fairest creatures we desire increase,\n",
    "  That thereby beauty's rose might never die,\n",
    "  But as the riper should by time decease,\n",
    "\"\"\""
   ]
  },
  {
   "cell_type": "code",
   "execution_count": 19,
   "id": "955399f0",
   "metadata": {},
   "outputs": [
    {
     "data": {
      "text/plain": [
       "133"
      ]
     },
     "execution_count": 19,
     "metadata": {},
     "output_type": "execute_result"
    }
   ],
   "source": [
    "len(lines)"
   ]
  },
  {
   "cell_type": "markdown",
   "id": "16b393fb",
   "metadata": {},
   "source": [
    "We can try and use a sequence length of 120 characters to capture the overall structure of the text."
   ]
  },
  {
   "cell_type": "code",
   "execution_count": 20,
   "id": "46022aa4",
   "metadata": {},
   "outputs": [],
   "source": [
    "seq_len = 120"
   ]
  },
  {
   "cell_type": "code",
   "execution_count": 21,
   "id": "b1ecf674",
   "metadata": {},
   "outputs": [],
   "source": [
    "total_num_seq = len(text)//(seq_len) "
   ]
  },
  {
   "cell_type": "code",
   "execution_count": 22,
   "id": "0e6d4f9a",
   "metadata": {},
   "outputs": [
    {
     "name": "stdout",
     "output_type": "stream",
     "text": [
      "Total number of sequences within text: 45380\n"
     ]
    }
   ],
   "source": [
    "print(f\"Total number of sequences within text: {total_num_seq}\")"
   ]
  },
  {
   "cell_type": "markdown",
   "id": "4bab5161",
   "metadata": {},
   "source": [
    "### Creating training sequences\n",
    "\n",
    "We can use the `tf.data.Dataset.from_tensor_slices` function to convert a text vector into a stream of character indices."
   ]
  },
  {
   "cell_type": "code",
   "execution_count": 23,
   "id": "f2c11f3d",
   "metadata": {},
   "outputs": [
    {
     "name": "stdout",
     "output_type": "stream",
     "text": [
      "<class 'tensorflow.python.data.ops.from_tensor_slices_op._TensorSliceDataset'>\n"
     ]
    }
   ],
   "source": [
    "# Create Training Sequences\n",
    "char_dataset = tf.data.Dataset.from_tensor_slices(encoded_text)\n",
    "\n",
    "print(type(char_dataset))"
   ]
  },
  {
   "cell_type": "code",
   "execution_count": 24,
   "id": "c661963b",
   "metadata": {},
   "outputs": [
    {
     "name": "stdout",
     "output_type": "stream",
     "text": [
      "\n",
      "\n",
      " \n",
      " \n",
      " \n",
      " \n",
      " \n",
      " \n",
      " \n",
      " \n",
      " \n",
      " \n",
      " \n",
      " \n",
      " \n",
      " \n",
      " \n",
      " \n",
      " \n",
      " \n",
      " \n",
      " \n",
      " \n",
      "1\n",
      "\n",
      "\n",
      " \n",
      " \n",
      "F\n",
      "r\n",
      "o\n",
      "m\n",
      " \n",
      "f\n",
      "a\n",
      "i\n",
      "r\n",
      "e\n",
      "s\n",
      "t\n",
      " \n",
      "c\n",
      "r\n",
      "e\n",
      "a\n",
      "t\n",
      "u\n",
      "r\n",
      "e\n",
      "s\n",
      " \n",
      "w\n",
      "e\n",
      " \n",
      "d\n",
      "e\n",
      "s\n",
      "i\n",
      "r\n",
      "e\n",
      " \n",
      "i\n",
      "n\n",
      "c\n",
      "r\n",
      "e\n",
      "a\n",
      "s\n",
      "e\n",
      ",\n",
      "\n",
      "\n",
      " \n",
      " \n",
      "T\n",
      "h\n",
      "a\n",
      "t\n",
      " \n",
      "t\n",
      "h\n",
      "e\n",
      "r\n",
      "e\n",
      "b\n",
      "y\n",
      " \n",
      "b\n",
      "e\n",
      "a\n",
      "u\n",
      "t\n",
      "y\n",
      "'\n",
      "s\n",
      " \n",
      "r\n",
      "o\n",
      "s\n",
      "e\n",
      " \n",
      "m\n",
      "i\n"
     ]
    }
   ],
   "source": [
    "for item in char_dataset.take(100):\n",
    "     print(idx_to_char[item.numpy()]) # convert TensorSliceDataset item to NumPy array first \n",
    "                                      # in order to print it out"
   ]
  },
  {
   "cell_type": "markdown",
   "id": "2dbbdd2d",
   "metadata": {},
   "source": [
    "The **batch** method converts these individual character calls into sequences we can feed in as a batch. We use seq_len+1 because of zero indexing.\n",
    "\n",
    "Here is what ``drop_remainder`` means:\n",
    "\n",
    "``drop_remainder``: (Optional.) A `tf.bool` scalar `tf.Tensor`, representing\n",
    "    whether the last batch should be dropped in the case it has fewer than\n",
    "    `batch_size` elements; the default behavior is not to drop the smaller\n",
    "    batch."
   ]
  },
  {
   "cell_type": "code",
   "execution_count": 25,
   "id": "7b810753",
   "metadata": {},
   "outputs": [],
   "source": [
    "sequences = char_dataset.batch(seq_len+1, drop_remainder=True)"
   ]
  },
  {
   "cell_type": "markdown",
   "id": "302df3e7",
   "metadata": {},
   "source": [
    "Now that we have our sequences, we will perform the following steps for each one to create our target text sequences:\n",
    "\n",
    "1. Grab the input text sequence\n",
    "2. Assign the target text sequence as the input text sequence shifted by one step forward\n",
    "3. Group them together as a tuple\n",
    "\n",
    "The actual text data will be the text sequence shifted one character forward. For example:\n",
    "\n",
    "Sequence In: \"Hello my nam\"\n",
    "\n",
    "\n",
    "Sequence Out: \"ello my name\""
   ]
  },
  {
   "cell_type": "code",
   "execution_count": 26,
   "id": "64df0aed",
   "metadata": {},
   "outputs": [],
   "source": [
    "def create_seq_targets(seq):\n",
    "    input_txt = seq[:-1] # e.g. \"Hello my nam\"\n",
    "    target_txt = seq[1:] # e.g. \"ello my name\"\n",
    "    return input_txt, target_txt"
   ]
  },
  {
   "cell_type": "code",
   "execution_count": 27,
   "id": "7e283cc2",
   "metadata": {},
   "outputs": [],
   "source": [
    "dataset = sequences.map(create_seq_targets)"
   ]
  },
  {
   "cell_type": "code",
   "execution_count": 28,
   "id": "76b58da8",
   "metadata": {},
   "outputs": [
    {
     "data": {
      "text/plain": [
       "tensorflow.python.data.ops.map_op._MapDataset"
      ]
     },
     "execution_count": 28,
     "metadata": {},
     "output_type": "execute_result"
    }
   ],
   "source": [
    "type(dataset)"
   ]
  },
  {
   "cell_type": "code",
   "execution_count": 29,
   "id": "7b0a00b0",
   "metadata": {},
   "outputs": [
    {
     "name": "stdout",
     "output_type": "stream",
     "text": [
      "[ 0  1  1  1  1  1  1  1  1  1  1  1  1  1  1  1  1  1  1  1  1  1 12  0\n",
      "  1  1 31 73 70 68  1 61 56 64 73 60 74 75  1 58 73 60 56 75 76 73 60 74\n",
      "  1 78 60  1 59 60 74 64 73 60  1 64 69 58 73 60 56 74 60  8  0  1  1 45\n",
      " 63 56 75  1 75 63 60 73 60 57 80  1 57 60 56 76 75 80  5 74  1 73 70 74\n",
      " 60  1 68 64 62 63 75  1 69 60 77 60 73  1 59 64 60  8  0  1  1 27 76 75]\n",
      "\n",
      "                     1\n",
      "  From fairest creatures we desire increase,\n",
      "  That thereby beauty's rose might never die,\n",
      "  But\n",
      "\n",
      "[ 1  1  1  1  1  1  1  1  1  1  1  1  1  1  1  1  1  1  1  1  1 12  0  1\n",
      "  1 31 73 70 68  1 61 56 64 73 60 74 75  1 58 73 60 56 75 76 73 60 74  1\n",
      " 78 60  1 59 60 74 64 73 60  1 64 69 58 73 60 56 74 60  8  0  1  1 45 63\n",
      " 56 75  1 75 63 60 73 60 57 80  1 57 60 56 76 75 80  5 74  1 73 70 74 60\n",
      "  1 68 64 62 63 75  1 69 60 77 60 73  1 59 64 60  8  0  1  1 27 76 75  1]\n",
      "                     1\n",
      "  From fairest creatures we desire increase,\n",
      "  That thereby beauty's rose might never die,\n",
      "  But \n"
     ]
    }
   ],
   "source": [
    "for input_txt, target_txt in dataset.take(1):\n",
    "    print(input_txt.numpy())\n",
    "    print(\"\".join(idx_to_char[input_txt.numpy()]))\n",
    "    print()\n",
    "    print(target_txt.numpy())\n",
    "    print(\"\".join(idx_to_char[target_txt.numpy()]))"
   ]
  },
  {
   "cell_type": "markdown",
   "id": "b51c12b2",
   "metadata": {},
   "source": [
    "### Generating training batches\n",
    "\n",
    "Now that we have the actual sequences, we will create the batches, we want to shuffle these sequences into a random order, so the model doesn't overfit to any section of the text, but can instead generate characters given any seed text."
   ]
  },
  {
   "cell_type": "code",
   "execution_count": 30,
   "id": "c8149ef2",
   "metadata": {},
   "outputs": [],
   "source": [
    "# Batch size\n",
    "batch_size = 128\n",
    "\n",
    "# Buffer size to shuffle the dataset so it doesn't attempt to shuffle\n",
    "# the entire sequence in memory. Instead, it maintains a buffer in which it shuffles elements\n",
    "buffer_size = 10000\n",
    "\n",
    "dataset = dataset.shuffle(buffer_size).batch(batch_size, drop_remainder=True)"
   ]
  },
  {
   "cell_type": "code",
   "execution_count": 31,
   "id": "ebac76f2",
   "metadata": {},
   "outputs": [
    {
     "data": {
      "text/plain": [
       "<_BatchDataset element_spec=(TensorSpec(shape=(128, 120), dtype=tf.int64, name=None), TensorSpec(shape=(128, 120), dtype=tf.int64, name=None))>"
      ]
     },
     "execution_count": 31,
     "metadata": {},
     "output_type": "execute_result"
    }
   ],
   "source": [
    "dataset"
   ]
  },
  {
   "cell_type": "markdown",
   "id": "5b70b216",
   "metadata": {},
   "source": [
    "## Creating the Model\n",
    "\n",
    "We will use an LSTM based model with a few extra features, including an embedding layer to start off with and **two** LSTM layers. We based this model architecture off the [DeepMoji](https://deepmoji.mit.edu/) and the original source code can be found [here](https://github.com/bfelbo/DeepMoji).\n",
    "\n",
    "The embedding layer will serve as the input layer, which essentially creates a lookup table that maps the numbers indices of each character to a vector with \"embedding dim\" number of dimensions. As you can imagine, the larger this embedding size, the more complex the training. This is similar to the idea behind word2vec, where words are mapped to some n-dimensional space. Embedding before feeding straight into the LSTM usually leads to more realisitic results."
   ]
  },
  {
   "cell_type": "code",
   "execution_count": 32,
   "id": "5d4ac0dc",
   "metadata": {},
   "outputs": [],
   "source": [
    "from tensorflow.keras.models import Sequential\n",
    "from tensorflow.keras.layers import LSTM,Dense,Embedding,Dropout,GRU"
   ]
  },
  {
   "cell_type": "code",
   "execution_count": 33,
   "id": "ecaa5d3e",
   "metadata": {},
   "outputs": [],
   "source": [
    "# Length of the vocabulary in chars\n",
    "vocab_size = len(vocab)\n",
    "\n",
    "# The embedding dimension\n",
    "embed_dim = 64\n",
    "\n",
    "# Number of RNN units\n",
    "rnn_neurons = 1026"
   ]
  },
  {
   "cell_type": "markdown",
   "id": "886c641a",
   "metadata": {},
   "source": [
    "### Setting up Loss Function\n",
    "\n",
    "For our loss we will use sparse categorical crossentropy, which we can import from Keras. We will also set this as logits=True"
   ]
  },
  {
   "cell_type": "code",
   "execution_count": 34,
   "id": "5b6e3cfd",
   "metadata": {},
   "outputs": [],
   "source": [
    "from tensorflow.keras.losses import sparse_categorical_crossentropy"
   ]
  },
  {
   "cell_type": "code",
   "execution_count": 35,
   "id": "4d89c0cf",
   "metadata": {},
   "outputs": [],
   "source": [
    "def sparse_cat_loss(y_true,y_pred):\n",
    "    return sparse_categorical_crossentropy(y_true, y_pred, from_logits=True)"
   ]
  },
  {
   "cell_type": "code",
   "execution_count": 36,
   "id": "846dc462",
   "metadata": {},
   "outputs": [],
   "source": [
    "def create_model(vocab_size, embed_dim, rnn_neurons, batch_size):\n",
    "    \n",
    "    model = Sequential()\n",
    "    \n",
    "    model.add(\n",
    "        Embedding(\n",
    "            vocab_size, \n",
    "            embed_dim, \n",
    "            batch_input_shape=[batch_size, None]\n",
    "        )\n",
    "    )\n",
    "    \n",
    "    model.add(\n",
    "        GRU(\n",
    "            rnn_neurons, \n",
    "            return_sequences=True,\n",
    "            stateful=True,\n",
    "            recurrent_initializer='glorot_uniform'\n",
    "        )\n",
    "    )\n",
    "    \n",
    "    # Final Dense Layer to Predict\n",
    "    model.add(Dense(vocab_size))\n",
    "    \n",
    "    model.compile(optimizer='adam', loss=sparse_cat_loss) \n",
    "    return model"
   ]
  },
  {
   "cell_type": "code",
   "execution_count": 37,
   "id": "0a95f686",
   "metadata": {},
   "outputs": [],
   "source": [
    "model = create_model(\n",
    "                    vocab_size = vocab_size,\n",
    "                    embed_dim=embed_dim,\n",
    "                    rnn_neurons=rnn_neurons,\n",
    "                    batch_size=batch_size\n",
    "        )"
   ]
  },
  {
   "cell_type": "code",
   "execution_count": 38,
   "id": "754ef275",
   "metadata": {},
   "outputs": [
    {
     "name": "stdout",
     "output_type": "stream",
     "text": [
      "Model: \"sequential\"\n",
      "_________________________________________________________________\n",
      " Layer (type)                Output Shape              Param #   \n",
      "=================================================================\n",
      " embedding (Embedding)       (128, None, 64)           5376      \n",
      "                                                                 \n",
      " gru (GRU)                   (128, None, 1026)         3361176   \n",
      "                                                                 \n",
      " dense (Dense)               (128, None, 84)           86268     \n",
      "                                                                 \n",
      "=================================================================\n",
      "Total params: 3452820 (13.17 MB)\n",
      "Trainable params: 3452820 (13.17 MB)\n",
      "Non-trainable params: 0 (0.00 Byte)\n",
      "_________________________________________________________________\n"
     ]
    }
   ],
   "source": [
    "model.summary()"
   ]
  },
  {
   "cell_type": "markdown",
   "id": "ad3ee188",
   "metadata": {},
   "source": [
    "## Training the model\n",
    "\n",
    "Let's make sure everything is ok with our model before we spend too much time training! Let's pass in a batch to confirm the model currently predicts random characters without any training."
   ]
  },
  {
   "cell_type": "code",
   "execution_count": 39,
   "id": "82de3cfa",
   "metadata": {},
   "outputs": [
    {
     "name": "stdout",
     "output_type": "stream",
     "text": [
      "(128, 120, 84)  <=== (batch_size, sequence_length, vocab_size)\n"
     ]
    }
   ],
   "source": [
    "for input_example_batch, target_example_batch in dataset.take(1):\n",
    "\n",
    "  # Predict off some random batch\n",
    "  example_batch_predictions = model(input_example_batch)\n",
    "\n",
    "  # Display the dimensions of the predictions\n",
    "  print(example_batch_predictions.shape, \" <=== (batch_size, sequence_length, vocab_size)\")"
   ]
  },
  {
   "cell_type": "code",
   "execution_count": 40,
   "id": "431e66ae",
   "metadata": {},
   "outputs": [
    {
     "data": {
      "text/plain": [
       "<tf.Tensor: shape=(128, 120, 84), dtype=float32, numpy=\n",
       "array([[[-1.38281577e-03, -1.20214291e-03, -2.84469174e-03, ...,\n",
       "         -3.28585948e-03, -5.33046201e-03,  6.46069937e-04],\n",
       "        [ 1.99546595e-03,  3.52930021e-03, -1.24996249e-03, ...,\n",
       "         -6.13524998e-03, -1.26291648e-03, -1.83680654e-03],\n",
       "        [-4.49904427e-03,  1.65677851e-03, -6.90698065e-03, ...,\n",
       "         -3.06714233e-03,  4.22158366e-04,  1.02609338e-03],\n",
       "        ...,\n",
       "        [-6.71130093e-03, -4.07097815e-03, -8.85701645e-03, ...,\n",
       "          1.50741939e-03,  5.60282683e-03,  1.74349837e-03],\n",
       "        [-7.27473246e-03, -4.71742172e-03, -9.23874695e-03, ...,\n",
       "          2.08955375e-03,  6.85420819e-03,  1.50956318e-03],\n",
       "        [ 3.66707100e-03, -8.60795099e-03, -7.81746395e-03, ...,\n",
       "          8.36499501e-03,  9.60237440e-03,  6.31402992e-03]],\n",
       "\n",
       "       [[-5.13854017e-03, -1.01270818e-03, -6.35854062e-03, ...,\n",
       "          1.10566740e-04,  1.36299594e-03,  1.38577016e-03],\n",
       "        [-3.88838304e-03,  2.16523977e-03,  1.86814857e-03, ...,\n",
       "          1.17850595e-03,  3.51910782e-03, -5.18605695e-04],\n",
       "        [-5.53773111e-03,  3.68470326e-03, -2.77871895e-03, ...,\n",
       "         -2.04446283e-03, -3.91583471e-03, -1.80347497e-03],\n",
       "        ...,\n",
       "        [-7.18716485e-03,  5.48986206e-03, -2.67785694e-03, ...,\n",
       "         -2.91501707e-03, -4.07061633e-03, -1.55775493e-03],\n",
       "        [-3.09435138e-03,  2.94117793e-03, -8.01313017e-03, ...,\n",
       "         -4.32719802e-03, -6.13292679e-03, -6.15068851e-03],\n",
       "        [-2.05529784e-03, -5.78290143e-04, -2.27112276e-03, ...,\n",
       "          2.62268935e-03,  3.13296053e-03,  7.26737198e-05]],\n",
       "\n",
       "       [[-5.48472116e-03,  4.96849278e-03,  5.96364681e-03, ...,\n",
       "         -2.22916901e-03,  3.96159105e-03, -3.65040824e-03],\n",
       "        [-6.12389948e-03,  6.25207974e-03,  6.82927202e-03, ...,\n",
       "         -4.63391282e-03,  2.91782408e-03,  2.54713651e-03],\n",
       "        [-8.64219107e-03,  3.38582811e-03, -3.05600744e-03, ...,\n",
       "         -2.74790288e-03,  7.09119893e-04,  2.86542042e-03],\n",
       "        ...,\n",
       "        [-4.72960266e-04,  2.71677505e-03, -6.49321650e-04, ...,\n",
       "         -2.81867175e-03,  4.20738012e-03, -3.78081878e-03],\n",
       "        [ 3.38219176e-03,  5.05004963e-03, -5.19711990e-03, ...,\n",
       "          2.66615837e-03,  1.28578953e-03,  5.42129297e-03],\n",
       "        [-3.98471532e-03,  1.48526393e-03, -9.44645517e-03, ...,\n",
       "          9.62530845e-04,  2.63348082e-03,  3.79959401e-03]],\n",
       "\n",
       "       ...,\n",
       "\n",
       "       [[ 1.91185944e-04, -2.24736612e-03, -3.51911550e-03, ...,\n",
       "         -3.13971634e-03, -2.12105876e-03, -1.52874121e-03],\n",
       "        [-7.27311708e-04, -3.94242303e-03, -6.83515100e-04, ...,\n",
       "          1.58582092e-03,  3.32531612e-03,  1.83193502e-03],\n",
       "        [ 5.30048972e-03, -3.48361256e-03,  2.74218945e-03, ...,\n",
       "          9.42562619e-05, -3.67805333e-04,  2.79350905e-03],\n",
       "        ...,\n",
       "        [-9.43133701e-03,  1.60623167e-03, -4.52296808e-03, ...,\n",
       "         -2.01977696e-03, -3.48673575e-03, -4.70890664e-03],\n",
       "        [-5.85813075e-03, -6.47747074e-04, -5.43541647e-03, ...,\n",
       "         -3.91433109e-03, -6.51908247e-03, -2.04512291e-03],\n",
       "        [-1.39600523e-02, -3.74698429e-04,  3.24831787e-03, ...,\n",
       "         -7.21421093e-03,  1.70476374e-03,  4.69165156e-03]],\n",
       "\n",
       "       [[-5.13854017e-03, -1.01270818e-03, -6.35854062e-03, ...,\n",
       "          1.10566740e-04,  1.36299594e-03,  1.38577016e-03],\n",
       "        [-4.75460710e-03, -1.22678315e-03, -8.23878869e-03, ...,\n",
       "         -2.63330992e-03, -1.85373449e-03,  4.23138728e-03],\n",
       "        [-3.01902113e-03, -2.34088465e-03, -6.55031530e-03, ...,\n",
       "         -4.45438642e-03, -5.29300747e-03,  7.46263424e-04],\n",
       "        ...,\n",
       "        [-3.24550853e-03,  6.64424384e-03,  4.11089789e-03, ...,\n",
       "          1.09963096e-03, -6.52779266e-03, -2.40511005e-03],\n",
       "        [-2.11070478e-03,  4.86645289e-03,  9.75993183e-03, ...,\n",
       "          6.48870971e-03, -3.34890094e-03, -3.85329011e-03],\n",
       "        [-2.11575907e-03,  8.77807569e-03, -1.32805132e-03, ...,\n",
       "         -4.15591290e-03, -4.40953858e-03,  3.38593032e-04]],\n",
       "\n",
       "       [[-6.93414593e-03,  1.03037234e-03, -3.37333791e-03, ...,\n",
       "         -1.51752657e-03, -5.32844802e-03, -5.26268128e-03],\n",
       "        [-1.95438770e-04,  4.11144737e-03, -7.25731952e-03, ...,\n",
       "          1.66716741e-03, -4.27245814e-03,  5.45976963e-03],\n",
       "        [-6.18695607e-03,  1.10186532e-03, -1.06785325e-02, ...,\n",
       "         -6.78072800e-04, -2.72111443e-04,  4.57430119e-03],\n",
       "        ...,\n",
       "        [-5.12319151e-03,  2.45400053e-03, -4.79282765e-03, ...,\n",
       "         -1.03676680e-03, -9.21123289e-03, -1.42016029e-03],\n",
       "        [ 5.86091919e-05,  4.79682628e-03, -1.92884798e-03, ...,\n",
       "         -5.12002781e-03, -5.67828631e-03, -5.37914038e-03],\n",
       "        [-5.06555196e-03,  1.82819366e-03, -6.93084532e-03, ...,\n",
       "         -2.32604123e-03, -3.22085153e-03, -2.01734388e-03]]],\n",
       "      dtype=float32)>"
      ]
     },
     "execution_count": 40,
     "metadata": {},
     "output_type": "execute_result"
    }
   ],
   "source": [
    "example_batch_predictions"
   ]
  },
  {
   "cell_type": "code",
   "execution_count": 41,
   "id": "d64c2fb4",
   "metadata": {},
   "outputs": [],
   "source": [
    "sampled_indices = tf.random.categorical(example_batch_predictions[0], num_samples=1)"
   ]
  },
  {
   "cell_type": "code",
   "execution_count": 42,
   "id": "00719435",
   "metadata": {},
   "outputs": [
    {
     "data": {
      "text/plain": [
       "<tf.Tensor: shape=(120, 1), dtype=int64, numpy=\n",
       "array([[17],\n",
       "       [65],\n",
       "       [54],\n",
       "       [ 0],\n",
       "       [70],\n",
       "       [25],\n",
       "       [43],\n",
       "       [74],\n",
       "       [67],\n",
       "       [65],\n",
       "       [74],\n",
       "       [ 1],\n",
       "       [51],\n",
       "       [42],\n",
       "       [81],\n",
       "       [35],\n",
       "       [81],\n",
       "       [30],\n",
       "       [61],\n",
       "       [43],\n",
       "       [66],\n",
       "       [46],\n",
       "       [78],\n",
       "       [23],\n",
       "       [ 5],\n",
       "       [ 5],\n",
       "       [11],\n",
       "       [67],\n",
       "       [60],\n",
       "       [11],\n",
       "       [25],\n",
       "       [45],\n",
       "       [37],\n",
       "       [81],\n",
       "       [56],\n",
       "       [ 3],\n",
       "       [46],\n",
       "       [24],\n",
       "       [66],\n",
       "       [70],\n",
       "       [16],\n",
       "       [23],\n",
       "       [15],\n",
       "       [51],\n",
       "       [82],\n",
       "       [11],\n",
       "       [52],\n",
       "       [80],\n",
       "       [29],\n",
       "       [38],\n",
       "       [21],\n",
       "       [79],\n",
       "       [28],\n",
       "       [48],\n",
       "       [15],\n",
       "       [49],\n",
       "       [57],\n",
       "       [10],\n",
       "       [83],\n",
       "       [21],\n",
       "       [32],\n",
       "       [19],\n",
       "       [50],\n",
       "       [43],\n",
       "       [54],\n",
       "       [59],\n",
       "       [81],\n",
       "       [10],\n",
       "       [62],\n",
       "       [19],\n",
       "       [59],\n",
       "       [69],\n",
       "       [38],\n",
       "       [73],\n",
       "       [60],\n",
       "       [61],\n",
       "       [36],\n",
       "       [49],\n",
       "       [78],\n",
       "       [63],\n",
       "       [16],\n",
       "       [47],\n",
       "       [16],\n",
       "       [66],\n",
       "       [ 4],\n",
       "       [55],\n",
       "       [46],\n",
       "       [12],\n",
       "       [10],\n",
       "       [36],\n",
       "       [16],\n",
       "       [47],\n",
       "       [25],\n",
       "       [82],\n",
       "       [80],\n",
       "       [60],\n",
       "       [74],\n",
       "       [49],\n",
       "       [50],\n",
       "       [29],\n",
       "       [ 3],\n",
       "       [51],\n",
       "       [50],\n",
       "       [83],\n",
       "       [46],\n",
       "       [77],\n",
       "       [11],\n",
       "       [50],\n",
       "       [15],\n",
       "       [41],\n",
       "       [68],\n",
       "       [56],\n",
       "       [ 7],\n",
       "       [20],\n",
       "       [18],\n",
       "       [31],\n",
       "       [53],\n",
       "       [ 2],\n",
       "       [68],\n",
       "       [22]])>"
      ]
     },
     "execution_count": 42,
     "metadata": {},
     "output_type": "execute_result"
    }
   ],
   "source": [
    "sampled_indices"
   ]
  },
  {
   "cell_type": "code",
   "execution_count": 43,
   "id": "94713fb0",
   "metadata": {},
   "outputs": [],
   "source": [
    "# Reformat to not be a lists of lists\n",
    "sampled_indices = tf.squeeze(sampled_indices,axis=-1).numpy()"
   ]
  },
  {
   "cell_type": "code",
   "execution_count": 44,
   "id": "5b95c2ba",
   "metadata": {},
   "outputs": [
    {
     "data": {
      "text/plain": [
       "array([17, 65, 54,  0, 70, 25, 43, 74, 67, 65, 74,  1, 51, 42, 81, 35, 81,\n",
       "       30, 61, 43, 66, 46, 78, 23,  5,  5, 11, 67, 60, 11, 25, 45, 37, 81,\n",
       "       56,  3, 46, 24, 66, 70, 16, 23, 15, 51, 82, 11, 52, 80, 29, 38, 21,\n",
       "       79, 28, 48, 15, 49, 57, 10, 83, 21, 32, 19, 50, 43, 54, 59, 81, 10,\n",
       "       62, 19, 59, 69, 38, 73, 60, 61, 36, 49, 78, 63, 16, 47, 16, 66,  4,\n",
       "       55, 46, 12, 10, 36, 16, 47, 25, 82, 80, 60, 74, 49, 50, 29,  3, 51,\n",
       "       50, 83, 46, 77, 11, 50, 15, 41, 68, 56,  7, 20, 18, 31, 53,  2, 68,\n",
       "       22])"
      ]
     },
     "execution_count": 44,
     "metadata": {},
     "output_type": "execute_result"
    }
   ],
   "source": [
    "sampled_indices"
   ]
  },
  {
   "cell_type": "code",
   "execution_count": 45,
   "id": "eeea26b4",
   "metadata": {},
   "outputs": [
    {
     "name": "stdout",
     "output_type": "stream",
     "text": [
      "Given the input seq: \n",
      "\n",
      "if he does think\n",
      "    He had not my virginity.\n",
      "  KING. What say'st thou to her?\n",
      "  BERTRAM. She's impudent, my lord,\n",
      "    A\n",
      "\n",
      "\n",
      "Next Char Predictions: \n",
      "\n",
      "6j_\n",
      "o?Rsljs ZQzJzEfRkUw<''0le0?TLza\"U>ko5<4Z|0[yDM:xCW4Xb.}:G8YR_dz.g8dnMrefKXwh5V5k&`U1.K5V?|yesXYD\"ZY}Uv0Y4Pma)97F]!m;\n"
     ]
    }
   ],
   "source": [
    "print(\"Given the input seq: \\n\")\n",
    "print(\"\".join(idx_to_char[input_example_batch[0]]))\n",
    "print('\\n')\n",
    "print(\"Next Char Predictions: \\n\")\n",
    "print(\"\".join(idx_to_char[sampled_indices ]))"
   ]
  },
  {
   "cell_type": "markdown",
   "id": "99638360",
   "metadata": {},
   "source": [
    "After confirming the dimensions are working, let's train our network!"
   ]
  },
  {
   "cell_type": "code",
   "execution_count": 46,
   "id": "68ef5329",
   "metadata": {},
   "outputs": [],
   "source": [
    "epochs=30"
   ]
  },
  {
   "cell_type": "code",
   "execution_count": 47,
   "id": "328997d1",
   "metadata": {},
   "outputs": [],
   "source": [
    "# model.fit(dataset,epochs=epochs)\n",
    "# model.save('shakespeare_gen.h5') "
   ]
  },
  {
   "cell_type": "markdown",
   "id": "f2ce995a",
   "metadata": {},
   "source": [
    "## Generating text\n",
    "\n",
    "Currently our model only expects 128 sequences at a time. We can create a new model that only expects a ``batch_size=1``. We can create a new model with this batch size, then load our saved models weights. Then call ``.build()`` on the model:"
   ]
  },
  {
   "cell_type": "code",
   "execution_count": 48,
   "id": "f24a18c4",
   "metadata": {},
   "outputs": [],
   "source": [
    "from tensorflow.keras.models import load_model"
   ]
  },
  {
   "cell_type": "code",
   "execution_count": 49,
   "id": "ef2e57e4",
   "metadata": {},
   "outputs": [],
   "source": [
    "model = create_model(vocab_size, embed_dim, rnn_neurons, batch_size=1)\n",
    "\n",
    "model.load_weights('shakespeare_gen.h5')\n",
    "\n",
    "model.build(tf.TensorShape([1, None]))"
   ]
  },
  {
   "cell_type": "code",
   "execution_count": 50,
   "id": "42d03342",
   "metadata": {},
   "outputs": [
    {
     "name": "stdout",
     "output_type": "stream",
     "text": [
      "Model: \"sequential_1\"\n",
      "_________________________________________________________________\n",
      " Layer (type)                Output Shape              Param #   \n",
      "=================================================================\n",
      " embedding_1 (Embedding)     (1, None, 64)             5376      \n",
      "                                                                 \n",
      " gru_1 (GRU)                 (1, None, 1026)           3361176   \n",
      "                                                                 \n",
      " dense_1 (Dense)             (1, None, 84)             86268     \n",
      "                                                                 \n",
      "=================================================================\n",
      "Total params: 3452820 (13.17 MB)\n",
      "Trainable params: 3452820 (13.17 MB)\n",
      "Non-trainable params: 0 (0.00 Byte)\n",
      "_________________________________________________________________\n"
     ]
    }
   ],
   "source": [
    "model.summary()"
   ]
  },
  {
   "cell_type": "code",
   "execution_count": 51,
   "id": "5a288789",
   "metadata": {},
   "outputs": [],
   "source": [
    "def generate_text(model, start_seed,gen_size=100,temp=1.0):\n",
    "    '''\n",
    "    model: Trained Model to Generate Text\n",
    "    start_seed: Intial Seed text in string form\n",
    "    gen_size: Number of characters to generate\n",
    "\n",
    "    Basic idea behind this function is to take in some seed text, format it so\n",
    "    that it is in the correct shape for our network, then loop the sequence as\n",
    "    we keep adding our own predicted characters. Similar to our work in the RNN\n",
    "    time series problems.\n",
    "    '''\n",
    "\n",
    "    # Number of characters to generate\n",
    "    num_generate = gen_size\n",
    "\n",
    "    # Vecotrizing starting seed text\n",
    "    input_eval = [char_to_idx[s] for s in start_seed]\n",
    "\n",
    "    # Expand to match batch format shape\n",
    "    input_eval = tf.expand_dims(input_eval, 0)\n",
    "\n",
    "    # Empty list to hold resulting generated text\n",
    "    text_generated = []\n",
    "\n",
    "    # Temperature effects randomness in our resulting text\n",
    "    # The term is derived from entropy/thermodynamics.\n",
    "    # The temperature is used to effect probability of next characters.\n",
    "    # Higher probability == lesss surprising/ more expected\n",
    "    # Lower temperature == more surprising / less expected\n",
    "\n",
    "    temperature = temp\n",
    "\n",
    "    # Here batch size == 1\n",
    "    model.reset_states()\n",
    "\n",
    "    for i in range(num_generate):\n",
    "\n",
    "        # Generate Predictions\n",
    "        predictions = model(input_eval)\n",
    "\n",
    "        # Remove the batch shape dimension\n",
    "        predictions = tf.squeeze(predictions, 0)\n",
    "\n",
    "        # Use a cateogircal disitribution to select the next character\n",
    "        predictions = predictions / temperature\n",
    "        predicted_id = tf.random.categorical(predictions, num_samples=1)[-1,0].numpy()\n",
    "\n",
    "        # Pass the predicted charracter for the next input\n",
    "        input_eval = tf.expand_dims([predicted_id], 0)\n",
    "\n",
    "        # Transform back to character letter\n",
    "        text_generated.append(idx_to_char[predicted_id])\n",
    "\n",
    "    return (start_seed + ''.join(text_generated))"
   ]
  },
  {
   "cell_type": "code",
   "execution_count": 52,
   "id": "abfe2c37",
   "metadata": {},
   "outputs": [
    {
     "name": "stdout",
     "output_type": "stream",
     "text": [
      "flower of these largess,\n",
      "    And in these many yielding ransom by th' idleness\n",
      "    Perforce my wife's in such discomfion;\n",
      "    No marvel hous'd, and therefore away,\n",
      "    So soon as I am not your false-taken,\n",
      "    An if thou drew her kinsman's train, that duty seens,\n",
      "    And care noto for the rich part of man\n",
      "    And gibestime had so much content with a most\n",
      "    end on his wish she been bleeding in his tider. Dies, the mass, four\n",
      "    brother, he hath not Am'd upon a pagienking that?\n",
      "  DIOMEDES. No, I will rather kill your brother cry,\n",
      "    No, not that I have been so faith and pretty!\n",
      "    O, let him come under your lord?\n",
      "    Where's Run away, sir? This is our own.\n",
      "  LAUNCE. Who would excuse yourself;\n",
      "    To bring a ravenous answer in the waters,\n",
      "    Because what beastly pines drinks matter in these woe?\n",
      "    Am freely spoke of, neither know thou call'd?\n",
      "    The Circh, five flouring of me. What your pleasure.\n",
      "    I am as long as to this none of yours?\n",
      "  Jul. She is not meet, and one forfeit to the\n",
      "\n"
     ]
    }
   ],
   "source": [
    "print(generate_text(model,\"flower\",gen_size=1000))"
   ]
  }
 ],
 "metadata": {
  "kernelspec": {
   "display_name": "Python 3 (ipykernel)",
   "language": "python",
   "name": "python3"
  },
  "language_info": {
   "codemirror_mode": {
    "name": "ipython",
    "version": 3
   },
   "file_extension": ".py",
   "mimetype": "text/x-python",
   "name": "python",
   "nbconvert_exporter": "python",
   "pygments_lexer": "ipython3",
   "version": "3.9.13"
  }
 },
 "nbformat": 4,
 "nbformat_minor": 5
}
