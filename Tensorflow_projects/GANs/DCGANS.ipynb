{
  "nbformat": 4,
  "nbformat_minor": 0,
  "metadata": {
    "colab": {
      "provenance": []
    },
    "kernelspec": {
      "name": "python3",
      "display_name": "Python 3"
    },
    "language_info": {
      "name": "python"
    }
  },
  "cells": [
    {
      "cell_type": "code",
      "execution_count": 11,
      "metadata": {
        "id": "HW6DSUM6y-1s"
      },
      "outputs": [],
      "source": [
        "import numpy as np\n",
        "import pandas as pd\n",
        "import matplotlib.pyplot as plt\n",
        "\n",
        "import tensorflow as tf\n",
        "from tensorflow.keras.models import Sequential\n",
        "from tensorflow.keras.layers import (Dense, Reshape, Dropout,\n",
        "                                     LeakyReLU, Flatten, BatchNormalization,\n",
        "                                     Conv2D, Conv2DTranspose)\n",
        "\n",
        "\n",
        "%matplotlib inline"
      ]
    },
    {
      "cell_type": "markdown",
      "source": [
        "## MNIST dataset"
      ],
      "metadata": {
        "id": "t8ALEP7ZzP_N"
      }
    },
    {
      "cell_type": "code",
      "source": [
        "from tensorflow.keras.datasets import mnist\n",
        "\n",
        "(X_train, y_train), (X_test, y_test) = mnist.load_data()\n",
        "\n",
        "print(X_train.shape, y_train.shape)\n",
        "print(X_test.shape, y_test.shape)"
      ],
      "metadata": {
        "colab": {
          "base_uri": "https://localhost:8080/"
        },
        "id": "Ou0cILx9zHid",
        "outputId": "f393a441-1c91-4aae-a9b4-330cc5f12f4b"
      },
      "execution_count": 2,
      "outputs": [
        {
          "output_type": "stream",
          "name": "stdout",
          "text": [
            "Downloading data from https://storage.googleapis.com/tensorflow/tf-keras-datasets/mnist.npz\n",
            "11490434/11490434 [==============================] - 0s 0us/step\n",
            "(60000, 28, 28) (60000,)\n",
            "(10000, 28, 28) (10000,)\n"
          ]
        }
      ]
    },
    {
      "cell_type": "code",
      "source": [
        "_ = plt.imshow(X_train[0], cmap='Greys')"
      ],
      "metadata": {
        "colab": {
          "base_uri": "https://localhost:8080/",
          "height": 430
        },
        "id": "0fUJVg3bzHlP",
        "outputId": "4c90ad37-9400-43c5-f3eb-b6e58f6c892d"
      },
      "execution_count": 3,
      "outputs": [
        {
          "output_type": "display_data",
          "data": {
            "text/plain": [
              "<Figure size 640x480 with 1 Axes>"
            ],
            "image/png": "[encoded data removed]"
          },
          "metadata": {}
        }
      ]
    },
    {
      "cell_type": "code",
      "source": [
        "print(X_train[0].min(), X_train[0].max())"
      ],
      "metadata": {
        "colab": {
          "base_uri": "https://localhost:8080/"
        },
        "id": "bW0kpjJoz8U0",
        "outputId": "5260c90f-e752-417b-e8cc-5d2395552e24"
      },
      "execution_count": 5,
      "outputs": [
        {
          "output_type": "stream",
          "name": "stdout",
          "text": [
            "0 255\n"
          ]
        }
      ]
    },
    {
      "cell_type": "code",
      "source": [
        "y_train"
      ],
      "metadata": {
        "colab": {
          "base_uri": "https://localhost:8080/"
        },
        "id": "u7h-nSS5zHnx",
        "outputId": "0f998c22-2407-4b48-e4e4-687e9b1c352f"
      },
      "execution_count": 4,
      "outputs": [
        {
          "output_type": "execute_result",
          "data": {
            "text/plain": [
              "array([5, 0, 4, ..., 5, 6, 8], dtype=uint8)"
            ]
          },
          "metadata": {},
          "execution_count": 4
        }
      ]
    },
    {
      "cell_type": "markdown",
      "source": [
        "## Reshape and Rescale Images for DCGAN\n",
        "\n",
        "Generator will use ``tanh`` activation function for the last layer, so we want to reshape ``X_train`` to be within -1 to 1 limits."
      ],
      "metadata": {
        "id": "I1fdpbcGzz58"
      }
    },
    {
      "cell_type": "code",
      "source": [
        "X_train = X_train / 255 # Scale the data between 0 and 1"
      ],
      "metadata": {
        "id": "rlIkwIdjzHql"
      },
      "execution_count": 6,
      "outputs": []
    },
    {
      "cell_type": "code",
      "source": [
        "X_train = X_train.reshape(-1, 28, 28, 1) * 2. - 1. # Reshape them and scale them between -1 and 1"
      ],
      "metadata": {
        "id": "mkdDvBCxzHtV"
      },
      "execution_count": 7,
      "outputs": []
    },
    {
      "cell_type": "code",
      "source": [
        "print(X_train.min(), X_train.max())"
      ],
      "metadata": {
        "colab": {
          "base_uri": "https://localhost:8080/"
        },
        "id": "U-IY0EHozHwB",
        "outputId": "db4b5921-323f-45c0-d2d0-b8432149f88c"
      },
      "execution_count": 9,
      "outputs": [
        {
          "output_type": "stream",
          "name": "stdout",
          "text": [
            "-1.0 1.0\n"
          ]
        }
      ]
    },
    {
      "cell_type": "markdown",
      "source": [
        "## Filtering out the Data for Faster Training on Smaller Dataset\n",
        "\n",
        "We are going to keep only the data that correspond to hand-written zeros. Zero is represented with a very distinct shape, thus making it easier for us to assess and visualize how close are the generated images to the real thing."
      ],
      "metadata": {
        "id": "h0IKG2AR0e7a"
      }
    },
    {
      "cell_type": "code",
      "source": [
        "is_zero = y_train == 0\n",
        "\n",
        "X_train = X_train[is_zero]\n",
        "y_train = y_train[is_zero]\n",
        "\n",
        "print(X_train.shape, y_train.shape)"
      ],
      "metadata": {
        "colab": {
          "base_uri": "https://localhost:8080/"
        },
        "id": "rLdowc_ozHyq",
        "outputId": "ec79b92b-1842-4ef9-d007-086d5c8a761f"
      },
      "execution_count": 10,
      "outputs": [
        {
          "output_type": "stream",
          "name": "stdout",
          "text": [
            "(5923, 28, 28, 1) (5923,)\n"
          ]
        }
      ]
    },
    {
      "cell_type": "code",
      "source": [
        "_ = plt.imshow(X_train[0], cmap='Greys')"
      ],
      "metadata": {
        "colab": {
          "base_uri": "https://localhost:8080/",
          "height": 430
        },
        "id": "Tambrw9t0ktQ",
        "outputId": "b114c4ed-f898-4940-9efd-381576480463"
      },
      "execution_count": 12,
      "outputs": [
        {
          "output_type": "display_data",
          "data": {
            "text/plain": [
              "<Figure size 640x480 with 1 Axes>"
            ],
            "image/png": "[encoded data removed]"
          },
          "metadata": {}
        }
      ]
    },
    {
      "cell_type": "markdown",
      "source": [
        "## Creating a Deep Convolutional Generative Adversarial Network Model"
      ],
      "metadata": {
        "id": "snB0lSuj0_h-"
      }
    },
    {
      "cell_type": "code",
      "source": [
        "tf.random.set_seed(42)\n",
        "\n",
        "codings_size = 100"
      ],
      "metadata": {
        "id": "7JWsT3Sh05am"
      },
      "execution_count": 13,
      "outputs": []
    },
    {
      "cell_type": "code",
      "source": [
        "generator = Sequential()\n",
        "\n",
        "generator.add(Dense(7 * 7 * 128, input_shape=[codings_size]))\n",
        "\n",
        "generator.add(Reshape([7, 7, 128]))\n",
        "\n",
        "generator.add(BatchNormalization())\n",
        "\n",
        "generator.add(Conv2DTranspose(64, kernel_size=5, strides=2, padding=\"same\",\n",
        "                                 activation=\"relu\"))\n",
        "\n",
        "generator.add(BatchNormalization())\n",
        "\n",
        "generator.add(Conv2DTranspose(1, kernel_size=5, strides=2, padding=\"same\",\n",
        "                                 activation=\"tanh\"))"
      ],
      "metadata": {
        "id": "B8VHIyAH1HPz"
      },
      "execution_count": 14,
      "outputs": []
    },
    {
      "cell_type": "code",
      "source": [
        "discriminator = Sequential()\n",
        "\n",
        "discriminator.add(Conv2D(64, kernel_size=5, strides=2, padding=\"same\",\n",
        "                        activation=LeakyReLU(0.3),\n",
        "                        input_shape=[28, 28, 1]))\n",
        "\n",
        "discriminator.add(Dropout(0.5))\n",
        "\n",
        "discriminator.add(Conv2D(128, kernel_size=5, strides=2, padding=\"same\",\n",
        "                        activation=LeakyReLU(0.3)))\n",
        "\n",
        "discriminator.add(Dropout(0.5))\n",
        "\n",
        "discriminator.add(Flatten())\n",
        "\n",
        "discriminator.add(Dense(1, activation=\"sigmoid\"))\n",
        "\n",
        "\n",
        "\n",
        "discriminator.compile(loss=\"binary_crossentropy\", optimizer=\"adam\")\n",
        "discriminator.trainable = False"
      ],
      "metadata": {
        "id": "w5dYJ04x1Vfj"
      },
      "execution_count": 15,
      "outputs": []
    },
    {
      "cell_type": "code",
      "source": [
        "GAN = Sequential([generator, discriminator])\n",
        "\n",
        "GAN.compile(loss=\"binary_crossentropy\", optimizer=\"adam\")"
      ],
      "metadata": {
        "id": "W45nu2O_1i5q"
      },
      "execution_count": 16,
      "outputs": []
    },
    {
      "cell_type": "code",
      "source": [
        "GAN.summary()"
      ],
      "metadata": {
        "colab": {
          "base_uri": "https://localhost:8080/"
        },
        "id": "vrJ2CABd1oSP",
        "outputId": "3ec2fc48-cf1b-446d-8ab9-c19b8f810565"
      },
      "execution_count": 17,
      "outputs": [
        {
          "output_type": "stream",
          "name": "stdout",
          "text": [
            "Model: \"sequential_2\"\n",
            "_________________________________________________________________\n",
            " Layer (type)                Output Shape              Param #   \n",
            "=================================================================\n",
            " sequential (Sequential)     (None, 28, 28, 1)         840705    \n",
            "                                                                 \n",
            " sequential_1 (Sequential)   (None, 1)                 212865    \n",
            "                                                                 \n",
            "=================================================================\n",
            "Total params: 1053570 (4.02 MB)\n",
            "Trainable params: 840321 (3.21 MB)\n",
            "Non-trainable params: 213249 (833.00 KB)\n",
            "_________________________________________________________________\n"
          ]
        }
      ]
    },
    {
      "cell_type": "code",
      "source": [
        "GAN.layers"
      ],
      "metadata": {
        "colab": {
          "base_uri": "https://localhost:8080/"
        },
        "id": "hLymir9h1qwo",
        "outputId": "72e36b97-81ce-45c6-ab8d-cbbec3524878"
      },
      "execution_count": 18,
      "outputs": [
        {
          "output_type": "execute_result",
          "data": {
            "text/plain": [
              "[<keras.src.engine.sequential.Sequential at 0x7df1ecee2860>,\n",
              " <keras.src.engine.sequential.Sequential at 0x7df1ece36c80>]"
            ]
          },
          "metadata": {},
          "execution_count": 18
        }
      ]
    },
    {
      "cell_type": "code",
      "source": [
        "GAN.layers[0].summary()"
      ],
      "metadata": {
        "colab": {
          "base_uri": "https://localhost:8080/"
        },
        "id": "zkzkGoVB1r_2",
        "outputId": "4ce8951a-8922-4e2c-fc9a-b593f8fcf22d"
      },
      "execution_count": 19,
      "outputs": [
        {
          "output_type": "stream",
          "name": "stdout",
          "text": [
            "Model: \"sequential\"\n",
            "_________________________________________________________________\n",
            " Layer (type)                Output Shape              Param #   \n",
            "=================================================================\n",
            " dense (Dense)               (None, 6272)              633472    \n",
            "                                                                 \n",
            " reshape (Reshape)           (None, 7, 7, 128)         0         \n",
            "                                                                 \n",
            " batch_normalization (Batch  (None, 7, 7, 128)         512       \n",
            " Normalization)                                                  \n",
            "                                                                 \n",
            " conv2d_transpose (Conv2DTr  (None, 14, 14, 64)        204864    \n",
            " anspose)                                                        \n",
            "                                                                 \n",
            " batch_normalization_1 (Bat  (None, 14, 14, 64)        256       \n",
            " chNormalization)                                                \n",
            "                                                                 \n",
            " conv2d_transpose_1 (Conv2D  (None, 28, 28, 1)         1601      \n",
            " Transpose)                                                      \n",
            "                                                                 \n",
            "=================================================================\n",
            "Total params: 840705 (3.21 MB)\n",
            "Trainable params: 840321 (3.21 MB)\n",
            "Non-trainable params: 384 (1.50 KB)\n",
            "_________________________________________________________________\n"
          ]
        }
      ]
    },
    {
      "cell_type": "code",
      "source": [
        "GAN.layers[1].summary()"
      ],
      "metadata": {
        "colab": {
          "base_uri": "https://localhost:8080/"
        },
        "id": "yF8tvHPY1t9y",
        "outputId": "3c4c8db5-6dbd-405e-b15d-b435ea1c3c77"
      },
      "execution_count": 20,
      "outputs": [
        {
          "output_type": "stream",
          "name": "stdout",
          "text": [
            "Model: \"sequential_1\"\n",
            "_________________________________________________________________\n",
            " Layer (type)                Output Shape              Param #   \n",
            "=================================================================\n",
            " conv2d (Conv2D)             (None, 14, 14, 64)        1664      \n",
            "                                                                 \n",
            " dropout (Dropout)           (None, 14, 14, 64)        0         \n",
            "                                                                 \n",
            " conv2d_1 (Conv2D)           (None, 7, 7, 128)         204928    \n",
            "                                                                 \n",
            " dropout_1 (Dropout)         (None, 7, 7, 128)         0         \n",
            "                                                                 \n",
            " flatten (Flatten)           (None, 6272)              0         \n",
            "                                                                 \n",
            " dense_1 (Dense)             (None, 1)                 6273      \n",
            "                                                                 \n",
            "=================================================================\n",
            "Total params: 212865 (831.50 KB)\n",
            "Trainable params: 0 (0.00 Byte)\n",
            "Non-trainable params: 212865 (831.50 KB)\n",
            "_________________________________________________________________\n"
          ]
        }
      ]
    },
    {
      "cell_type": "markdown",
      "source": [
        "## Setting up Training Batches"
      ],
      "metadata": {
        "id": "BAAG4b9m11L8"
      }
    },
    {
      "cell_type": "code",
      "source": [
        "batch_size = 32"
      ],
      "metadata": {
        "id": "J9yOaUo01wUX"
      },
      "execution_count": 21,
      "outputs": []
    },
    {
      "cell_type": "code",
      "source": [
        "dataset = tf.data.Dataset.from_tensor_slices(X_train).shuffle(buffer_size=1000)"
      ],
      "metadata": {
        "id": "fsUKHnlq13Jr"
      },
      "execution_count": 22,
      "outputs": []
    },
    {
      "cell_type": "code",
      "source": [
        "type(dataset)"
      ],
      "metadata": {
        "colab": {
          "base_uri": "https://localhost:8080/"
        },
        "id": "3djj2STd160I",
        "outputId": "991fa03f-793e-43a9-a03f-78b7d6bc2857"
      },
      "execution_count": 23,
      "outputs": [
        {
          "output_type": "execute_result",
          "data": {
            "text/plain": [
              "tensorflow.python.data.ops.shuffle_op._ShuffleDataset"
            ]
          },
          "metadata": {},
          "execution_count": 23
        }
      ]
    },
    {
      "cell_type": "code",
      "source": [
        "dataset = dataset.batch(batch_size, drop_remainder=True).prefetch(1)"
      ],
      "metadata": {
        "id": "ek4tEI7f17mx"
      },
      "execution_count": 24,
      "outputs": []
    },
    {
      "cell_type": "code",
      "source": [
        "epochs = 20"
      ],
      "metadata": {
        "id": "-0RkuXzU196u"
      },
      "execution_count": 25,
      "outputs": []
    },
    {
      "cell_type": "markdown",
      "source": [
        "## Training Loop\n",
        "\n",
        "**NOTE**: The generator never actually sees any real images. It learns by viewing the gradients going back through the discriminator. The better the discrimnator gets through training, the more information the discriminator contains in its gradients, which means the generator can begin to make progress in learning how to generate fake images, in our case, fake zeros."
      ],
      "metadata": {
        "id": "BAPp_gy82A2S"
      }
    },
    {
      "cell_type": "code",
      "source": [
        "# Grab the seprate components\n",
        "generator, discriminator = GAN.layers\n",
        "\n",
        "# For every epcoh\n",
        "for epoch in range(epochs):\n",
        "    print(f\"Currently on Epoch {epoch+1}\")\n",
        "    i = 0\n",
        "\n",
        "    # For every batch in the dataset\n",
        "    for X_batch in dataset:\n",
        "        i += 1\n",
        "        if i%10 == 0:\n",
        "            print(f\"\\tCurrently on batch number {i} of {len(X_train)//batch_size}\")\n",
        "\n",
        "\n",
        "        #####################################\n",
        "        ##   TRAINING THE DISCRIMINATOR    ##\n",
        "        #####################################\n",
        "\n",
        "        # Create Noise\n",
        "        noise = tf.random.normal(shape=[batch_size, codings_size])\n",
        "\n",
        "        # Generate numbers based just on noise input\n",
        "        gen_images = generator(noise)\n",
        "\n",
        "        # Concatenate Generated Images against the Real Ones\n",
        "        # TO use tf.concat, the data types must match!\n",
        "        X_fake_vs_real = tf.concat([gen_images, tf.dtypes.cast(X_batch,tf.float32)], axis=0)\n",
        "\n",
        "        # Targets set to zero for fake images and 1 for real images\n",
        "        y1 = tf.constant([[0.]] * batch_size + [[1.]] * batch_size)\n",
        "\n",
        "        # This gets rid of a Keras warning\n",
        "        discriminator.trainable = True\n",
        "\n",
        "        # Train the discriminator on this batch\n",
        "        discriminator.train_on_batch(X_fake_vs_real, y1)\n",
        "\n",
        "\n",
        "        #####################################\n",
        "        ##     TRAINING THE GENERATOR      ##\n",
        "        #####################################\n",
        "\n",
        "        # Create some noise\n",
        "        noise = tf.random.normal(shape=[batch_size, codings_size])\n",
        "\n",
        "        # We want discriminator to belive that fake images are real\n",
        "        y2 = tf.constant([[1.]] * batch_size)\n",
        "\n",
        "        # Avois a warning\n",
        "        discriminator.trainable = False\n",
        "\n",
        "        GAN.train_on_batch(noise, y2)\n",
        "\n",
        "print(\"TRAINING COMPLETE\")"
      ],
      "metadata": {
        "colab": {
          "base_uri": "https://localhost:8080/"
        },
        "id": "Qb1lr7x02AGZ",
        "outputId": "40c5c189-8fe9-4ae3-9c42-193e6544c78c"
      },
      "execution_count": 26,
      "outputs": [
        {
          "output_type": "stream",
          "name": "stdout",
          "text": [
            "Currently on Epoch 1\n",
            "\tCurrently on batch number 10 of 185\n",
            "\tCurrently on batch number 20 of 185\n",
            "\tCurrently on batch number 30 of 185\n",
            "\tCurrently on batch number 40 of 185\n",
            "\tCurrently on batch number 50 of 185\n",
            "\tCurrently on batch number 60 of 185\n",
            "\tCurrently on batch number 70 of 185\n",
            "\tCurrently on batch number 80 of 185\n",
            "\tCurrently on batch number 90 of 185\n",
            "\tCurrently on batch number 100 of 185\n",
            "\tCurrently on batch number 110 of 185\n",
            "\tCurrently on batch number 120 of 185\n",
            "\tCurrently on batch number 130 of 185\n",
            "\tCurrently on batch number 140 of 185\n",
            "\tCurrently on batch number 150 of 185\n",
            "\tCurrently on batch number 160 of 185\n",
            "\tCurrently on batch number 170 of 185\n",
            "\tCurrently on batch number 180 of 185\n",
            "Currently on Epoch 2\n",
            "\tCurrently on batch number 10 of 185\n",
            "\tCurrently on batch number 20 of 185\n",
            "\tCurrently on batch number 30 of 185\n",
            "\tCurrently on batch number 40 of 185\n",
            "\tCurrently on batch number 50 of 185\n",
            "\tCurrently on batch number 60 of 185\n",
            "\tCurrently on batch number 70 of 185\n",
            "\tCurrently on batch number 80 of 185\n",
            "\tCurrently on batch number 90 of 185\n",
            "\tCurrently on batch number 100 of 185\n",
            "\tCurrently on batch number 110 of 185\n",
            "\tCurrently on batch number 120 of 185\n",
            "\tCurrently on batch number 130 of 185\n",
            "\tCurrently on batch number 140 of 185\n",
            "\tCurrently on batch number 150 of 185\n",
            "\tCurrently on batch number 160 of 185\n",
            "\tCurrently on batch number 170 of 185\n",
            "\tCurrently on batch number 180 of 185\n",
            "Currently on Epoch 3\n",
            "\tCurrently on batch number 10 of 185\n",
            "\tCurrently on batch number 20 of 185\n",
            "\tCurrently on batch number 30 of 185\n",
            "\tCurrently on batch number 40 of 185\n",
            "\tCurrently on batch number 50 of 185\n",
            "\tCurrently on batch number 60 of 185\n",
            "\tCurrently on batch number 70 of 185\n",
            "\tCurrently on batch number 80 of 185\n",
            "\tCurrently on batch number 90 of 185\n",
            "\tCurrently on batch number 100 of 185\n",
            "\tCurrently on batch number 110 of 185\n",
            "\tCurrently on batch number 120 of 185\n",
            "\tCurrently on batch number 130 of 185\n",
            "\tCurrently on batch number 140 of 185\n",
            "\tCurrently on batch number 150 of 185\n",
            "\tCurrently on batch number 160 of 185\n",
            "\tCurrently on batch number 170 of 185\n",
            "\tCurrently on batch number 180 of 185\n",
            "Currently on Epoch 4\n",
            "\tCurrently on batch number 10 of 185\n",
            "\tCurrently on batch number 20 of 185\n",
            "\tCurrently on batch number 30 of 185\n",
            "\tCurrently on batch number 40 of 185\n",
            "\tCurrently on batch number 50 of 185\n",
            "\tCurrently on batch number 60 of 185\n",
            "\tCurrently on batch number 70 of 185\n",
            "\tCurrently on batch number 80 of 185\n",
            "\tCurrently on batch number 90 of 185\n",
            "\tCurrently on batch number 100 of 185\n",
            "\tCurrently on batch number 110 of 185\n",
            "\tCurrently on batch number 120 of 185\n",
            "\tCurrently on batch number 130 of 185\n",
            "\tCurrently on batch number 140 of 185\n",
            "\tCurrently on batch number 150 of 185\n",
            "\tCurrently on batch number 160 of 185\n",
            "\tCurrently on batch number 170 of 185\n",
            "\tCurrently on batch number 180 of 185\n",
            "Currently on Epoch 5\n",
            "\tCurrently on batch number 10 of 185\n",
            "\tCurrently on batch number 20 of 185\n",
            "\tCurrently on batch number 30 of 185\n",
            "\tCurrently on batch number 40 of 185\n",
            "\tCurrently on batch number 50 of 185\n",
            "\tCurrently on batch number 60 of 185\n",
            "\tCurrently on batch number 70 of 185\n",
            "\tCurrently on batch number 80 of 185\n",
            "\tCurrently on batch number 90 of 185\n",
            "\tCurrently on batch number 100 of 185\n",
            "\tCurrently on batch number 110 of 185\n",
            "\tCurrently on batch number 120 of 185\n",
            "\tCurrently on batch number 130 of 185\n",
            "\tCurrently on batch number 140 of 185\n",
            "\tCurrently on batch number 150 of 185\n",
            "\tCurrently on batch number 160 of 185\n",
            "\tCurrently on batch number 170 of 185\n",
            "\tCurrently on batch number 180 of 185\n",
            "Currently on Epoch 6\n",
            "\tCurrently on batch number 10 of 185\n",
            "\tCurrently on batch number 20 of 185\n",
            "\tCurrently on batch number 30 of 185\n",
            "\tCurrently on batch number 40 of 185\n",
            "\tCurrently on batch number 50 of 185\n",
            "\tCurrently on batch number 60 of 185\n",
            "\tCurrently on batch number 70 of 185\n",
            "\tCurrently on batch number 80 of 185\n",
            "\tCurrently on batch number 90 of 185\n",
            "\tCurrently on batch number 100 of 185\n",
            "\tCurrently on batch number 110 of 185\n",
            "\tCurrently on batch number 120 of 185\n",
            "\tCurrently on batch number 130 of 185\n",
            "\tCurrently on batch number 140 of 185\n",
            "\tCurrently on batch number 150 of 185\n",
            "\tCurrently on batch number 160 of 185\n",
            "\tCurrently on batch number 170 of 185\n",
            "\tCurrently on batch number 180 of 185\n",
            "Currently on Epoch 7\n",
            "\tCurrently on batch number 10 of 185\n",
            "\tCurrently on batch number 20 of 185\n",
            "\tCurrently on batch number 30 of 185\n",
            "\tCurrently on batch number 40 of 185\n",
            "\tCurrently on batch number 50 of 185\n",
            "\tCurrently on batch number 60 of 185\n",
            "\tCurrently on batch number 70 of 185\n",
            "\tCurrently on batch number 80 of 185\n",
            "\tCurrently on batch number 90 of 185\n",
            "\tCurrently on batch number 100 of 185\n",
            "\tCurrently on batch number 110 of 185\n",
            "\tCurrently on batch number 120 of 185\n",
            "\tCurrently on batch number 130 of 185\n",
            "\tCurrently on batch number 140 of 185\n",
            "\tCurrently on batch number 150 of 185\n",
            "\tCurrently on batch number 160 of 185\n",
            "\tCurrently on batch number 170 of 185\n",
            "\tCurrently on batch number 180 of 185\n",
            "Currently on Epoch 8\n",
            "\tCurrently on batch number 10 of 185\n",
            "\tCurrently on batch number 20 of 185\n",
            "\tCurrently on batch number 30 of 185\n",
            "\tCurrently on batch number 40 of 185\n",
            "\tCurrently on batch number 50 of 185\n",
            "\tCurrently on batch number 60 of 185\n",
            "\tCurrently on batch number 70 of 185\n",
            "\tCurrently on batch number 80 of 185\n",
            "\tCurrently on batch number 90 of 185\n",
            "\tCurrently on batch number 100 of 185\n",
            "\tCurrently on batch number 110 of 185\n",
            "\tCurrently on batch number 120 of 185\n",
            "\tCurrently on batch number 130 of 185\n",
            "\tCurrently on batch number 140 of 185\n",
            "\tCurrently on batch number 150 of 185\n",
            "\tCurrently on batch number 160 of 185\n",
            "\tCurrently on batch number 170 of 185\n",
            "\tCurrently on batch number 180 of 185\n",
            "Currently on Epoch 9\n",
            "\tCurrently on batch number 10 of 185\n",
            "\tCurrently on batch number 20 of 185\n",
            "\tCurrently on batch number 30 of 185\n",
            "\tCurrently on batch number 40 of 185\n",
            "\tCurrently on batch number 50 of 185\n",
            "\tCurrently on batch number 60 of 185\n",
            "\tCurrently on batch number 70 of 185\n",
            "\tCurrently on batch number 80 of 185\n",
            "\tCurrently on batch number 90 of 185\n",
            "\tCurrently on batch number 100 of 185\n",
            "\tCurrently on batch number 110 of 185\n",
            "\tCurrently on batch number 120 of 185\n",
            "\tCurrently on batch number 130 of 185\n",
            "\tCurrently on batch number 140 of 185\n",
            "\tCurrently on batch number 150 of 185\n",
            "\tCurrently on batch number 160 of 185\n",
            "\tCurrently on batch number 170 of 185\n",
            "\tCurrently on batch number 180 of 185\n",
            "Currently on Epoch 10\n",
            "\tCurrently on batch number 10 of 185\n",
            "\tCurrently on batch number 20 of 185\n",
            "\tCurrently on batch number 30 of 185\n",
            "\tCurrently on batch number 40 of 185\n",
            "\tCurrently on batch number 50 of 185\n",
            "\tCurrently on batch number 60 of 185\n",
            "\tCurrently on batch number 70 of 185\n",
            "\tCurrently on batch number 80 of 185\n",
            "\tCurrently on batch number 90 of 185\n",
            "\tCurrently on batch number 100 of 185\n",
            "\tCurrently on batch number 110 of 185\n",
            "\tCurrently on batch number 120 of 185\n",
            "\tCurrently on batch number 130 of 185\n",
            "\tCurrently on batch number 140 of 185\n",
            "\tCurrently on batch number 150 of 185\n",
            "\tCurrently on batch number 160 of 185\n",
            "\tCurrently on batch number 170 of 185\n",
            "\tCurrently on batch number 180 of 185\n",
            "Currently on Epoch 11\n",
            "\tCurrently on batch number 10 of 185\n",
            "\tCurrently on batch number 20 of 185\n",
            "\tCurrently on batch number 30 of 185\n",
            "\tCurrently on batch number 40 of 185\n",
            "\tCurrently on batch number 50 of 185\n",
            "\tCurrently on batch number 60 of 185\n",
            "\tCurrently on batch number 70 of 185\n",
            "\tCurrently on batch number 80 of 185\n",
            "\tCurrently on batch number 90 of 185\n",
            "\tCurrently on batch number 100 of 185\n",
            "\tCurrently on batch number 110 of 185\n",
            "\tCurrently on batch number 120 of 185\n",
            "\tCurrently on batch number 130 of 185\n",
            "\tCurrently on batch number 140 of 185\n",
            "\tCurrently on batch number 150 of 185\n",
            "\tCurrently on batch number 160 of 185\n",
            "\tCurrently on batch number 170 of 185\n",
            "\tCurrently on batch number 180 of 185\n",
            "Currently on Epoch 12\n",
            "\tCurrently on batch number 10 of 185\n",
            "\tCurrently on batch number 20 of 185\n",
            "\tCurrently on batch number 30 of 185\n",
            "\tCurrently on batch number 40 of 185\n",
            "\tCurrently on batch number 50 of 185\n",
            "\tCurrently on batch number 60 of 185\n",
            "\tCurrently on batch number 70 of 185\n",
            "\tCurrently on batch number 80 of 185\n",
            "\tCurrently on batch number 90 of 185\n",
            "\tCurrently on batch number 100 of 185\n",
            "\tCurrently on batch number 110 of 185\n",
            "\tCurrently on batch number 120 of 185\n",
            "\tCurrently on batch number 130 of 185\n",
            "\tCurrently on batch number 140 of 185\n",
            "\tCurrently on batch number 150 of 185\n",
            "\tCurrently on batch number 160 of 185\n",
            "\tCurrently on batch number 170 of 185\n",
            "\tCurrently on batch number 180 of 185\n",
            "Currently on Epoch 13\n",
            "\tCurrently on batch number 10 of 185\n",
            "\tCurrently on batch number 20 of 185\n",
            "\tCurrently on batch number 30 of 185\n",
            "\tCurrently on batch number 40 of 185\n",
            "\tCurrently on batch number 50 of 185\n",
            "\tCurrently on batch number 60 of 185\n",
            "\tCurrently on batch number 70 of 185\n",
            "\tCurrently on batch number 80 of 185\n",
            "\tCurrently on batch number 90 of 185\n",
            "\tCurrently on batch number 100 of 185\n",
            "\tCurrently on batch number 110 of 185\n",
            "\tCurrently on batch number 120 of 185\n",
            "\tCurrently on batch number 130 of 185\n",
            "\tCurrently on batch number 140 of 185\n",
            "\tCurrently on batch number 150 of 185\n",
            "\tCurrently on batch number 160 of 185\n",
            "\tCurrently on batch number 170 of 185\n",
            "\tCurrently on batch number 180 of 185\n",
            "Currently on Epoch 14\n",
            "\tCurrently on batch number 10 of 185\n",
            "\tCurrently on batch number 20 of 185\n",
            "\tCurrently on batch number 30 of 185\n",
            "\tCurrently on batch number 40 of 185\n",
            "\tCurrently on batch number 50 of 185\n",
            "\tCurrently on batch number 60 of 185\n",
            "\tCurrently on batch number 70 of 185\n",
            "\tCurrently on batch number 80 of 185\n",
            "\tCurrently on batch number 90 of 185\n",
            "\tCurrently on batch number 100 of 185\n",
            "\tCurrently on batch number 110 of 185\n",
            "\tCurrently on batch number 120 of 185\n",
            "\tCurrently on batch number 130 of 185\n",
            "\tCurrently on batch number 140 of 185\n",
            "\tCurrently on batch number 150 of 185\n",
            "\tCurrently on batch number 160 of 185\n",
            "\tCurrently on batch number 170 of 185\n",
            "\tCurrently on batch number 180 of 185\n",
            "Currently on Epoch 15\n",
            "\tCurrently on batch number 10 of 185\n",
            "\tCurrently on batch number 20 of 185\n",
            "\tCurrently on batch number 30 of 185\n",
            "\tCurrently on batch number 40 of 185\n",
            "\tCurrently on batch number 50 of 185\n",
            "\tCurrently on batch number 60 of 185\n",
            "\tCurrently on batch number 70 of 185\n",
            "\tCurrently on batch number 80 of 185\n",
            "\tCurrently on batch number 90 of 185\n",
            "\tCurrently on batch number 100 of 185\n",
            "\tCurrently on batch number 110 of 185\n",
            "\tCurrently on batch number 120 of 185\n",
            "\tCurrently on batch number 130 of 185\n",
            "\tCurrently on batch number 140 of 185\n",
            "\tCurrently on batch number 150 of 185\n",
            "\tCurrently on batch number 160 of 185\n",
            "\tCurrently on batch number 170 of 185\n",
            "\tCurrently on batch number 180 of 185\n",
            "Currently on Epoch 16\n",
            "\tCurrently on batch number 10 of 185\n",
            "\tCurrently on batch number 20 of 185\n",
            "\tCurrently on batch number 30 of 185\n",
            "\tCurrently on batch number 40 of 185\n",
            "\tCurrently on batch number 50 of 185\n",
            "\tCurrently on batch number 60 of 185\n",
            "\tCurrently on batch number 70 of 185\n",
            "\tCurrently on batch number 80 of 185\n",
            "\tCurrently on batch number 90 of 185\n",
            "\tCurrently on batch number 100 of 185\n",
            "\tCurrently on batch number 110 of 185\n",
            "\tCurrently on batch number 120 of 185\n",
            "\tCurrently on batch number 130 of 185\n",
            "\tCurrently on batch number 140 of 185\n",
            "\tCurrently on batch number 150 of 185\n",
            "\tCurrently on batch number 160 of 185\n",
            "\tCurrently on batch number 170 of 185\n",
            "\tCurrently on batch number 180 of 185\n",
            "Currently on Epoch 17\n",
            "\tCurrently on batch number 10 of 185\n",
            "\tCurrently on batch number 20 of 185\n",
            "\tCurrently on batch number 30 of 185\n",
            "\tCurrently on batch number 40 of 185\n",
            "\tCurrently on batch number 50 of 185\n",
            "\tCurrently on batch number 60 of 185\n",
            "\tCurrently on batch number 70 of 185\n",
            "\tCurrently on batch number 80 of 185\n",
            "\tCurrently on batch number 90 of 185\n",
            "\tCurrently on batch number 100 of 185\n",
            "\tCurrently on batch number 110 of 185\n",
            "\tCurrently on batch number 120 of 185\n",
            "\tCurrently on batch number 130 of 185\n",
            "\tCurrently on batch number 140 of 185\n",
            "\tCurrently on batch number 150 of 185\n",
            "\tCurrently on batch number 160 of 185\n",
            "\tCurrently on batch number 170 of 185\n",
            "\tCurrently on batch number 180 of 185\n",
            "Currently on Epoch 18\n",
            "\tCurrently on batch number 10 of 185\n",
            "\tCurrently on batch number 20 of 185\n",
            "\tCurrently on batch number 30 of 185\n",
            "\tCurrently on batch number 40 of 185\n",
            "\tCurrently on batch number 50 of 185\n",
            "\tCurrently on batch number 60 of 185\n",
            "\tCurrently on batch number 70 of 185\n",
            "\tCurrently on batch number 80 of 185\n",
            "\tCurrently on batch number 90 of 185\n",
            "\tCurrently on batch number 100 of 185\n",
            "\tCurrently on batch number 110 of 185\n",
            "\tCurrently on batch number 120 of 185\n",
            "\tCurrently on batch number 130 of 185\n",
            "\tCurrently on batch number 140 of 185\n",
            "\tCurrently on batch number 150 of 185\n",
            "\tCurrently on batch number 160 of 185\n",
            "\tCurrently on batch number 170 of 185\n",
            "\tCurrently on batch number 180 of 185\n",
            "Currently on Epoch 19\n",
            "\tCurrently on batch number 10 of 185\n",
            "\tCurrently on batch number 20 of 185\n",
            "\tCurrently on batch number 30 of 185\n",
            "\tCurrently on batch number 40 of 185\n",
            "\tCurrently on batch number 50 of 185\n",
            "\tCurrently on batch number 60 of 185\n",
            "\tCurrently on batch number 70 of 185\n",
            "\tCurrently on batch number 80 of 185\n",
            "\tCurrently on batch number 90 of 185\n",
            "\tCurrently on batch number 100 of 185\n",
            "\tCurrently on batch number 110 of 185\n",
            "\tCurrently on batch number 120 of 185\n",
            "\tCurrently on batch number 130 of 185\n",
            "\tCurrently on batch number 140 of 185\n",
            "\tCurrently on batch number 150 of 185\n",
            "\tCurrently on batch number 160 of 185\n",
            "\tCurrently on batch number 170 of 185\n",
            "\tCurrently on batch number 180 of 185\n",
            "Currently on Epoch 20\n",
            "\tCurrently on batch number 10 of 185\n",
            "\tCurrently on batch number 20 of 185\n",
            "\tCurrently on batch number 30 of 185\n",
            "\tCurrently on batch number 40 of 185\n",
            "\tCurrently on batch number 50 of 185\n",
            "\tCurrently on batch number 60 of 185\n",
            "\tCurrently on batch number 70 of 185\n",
            "\tCurrently on batch number 80 of 185\n",
            "\tCurrently on batch number 90 of 185\n",
            "\tCurrently on batch number 100 of 185\n",
            "\tCurrently on batch number 110 of 185\n",
            "\tCurrently on batch number 120 of 185\n",
            "\tCurrently on batch number 130 of 185\n",
            "\tCurrently on batch number 140 of 185\n",
            "\tCurrently on batch number 150 of 185\n",
            "\tCurrently on batch number 160 of 185\n",
            "\tCurrently on batch number 170 of 185\n",
            "\tCurrently on batch number 180 of 185\n",
            "TRAINING COMPLETE\n"
          ]
        }
      ]
    },
    {
      "cell_type": "code",
      "source": [
        "noise = tf.random.normal(shape=[10, codings_size])\n",
        "\n",
        "print(noise.shape)"
      ],
      "metadata": {
        "colab": {
          "base_uri": "https://localhost:8080/"
        },
        "id": "gvvUf78O2MzW",
        "outputId": "a8205c99-de56-4849-ec9b-f72ff32fd480"
      },
      "execution_count": 27,
      "outputs": [
        {
          "output_type": "stream",
          "name": "stdout",
          "text": [
            "(10, 100)\n"
          ]
        }
      ]
    },
    {
      "cell_type": "code",
      "source": [
        "_ = plt.imshow(noise)"
      ],
      "metadata": {
        "colab": {
          "base_uri": "https://localhost:8080/",
          "height": 113
        },
        "id": "2i35BCRK2pev",
        "outputId": "6d81c784-1d76-492b-b613-8ed5003d6d62"
      },
      "execution_count": 28,
      "outputs": [
        {
          "output_type": "display_data",
          "data": {
            "text/plain": [
              "<Figure size 640x480 with 1 Axes>"
            ],
            "image/png": "[encoded data removed]"
          },
          "metadata": {}
        }
      ]
    },
    {
      "cell_type": "code",
      "source": [
        "fake_zeros = generator(noise)"
      ],
      "metadata": {
        "id": "xELq01dZ2pha"
      },
      "execution_count": 29,
      "outputs": []
    },
    {
      "cell_type": "code",
      "source": [
        "fig, ax = plt.subplots(2,5, figsize=(12,6))\n",
        "fig.tight_layout()\n",
        "\n",
        "idx = 0\n",
        "for i in range(2):\n",
        "  for j in range(5):\n",
        "    ax[i,j].imshow(fake_zeros[idx], cmap='Greys')\n",
        "    idx += 1"
      ],
      "metadata": {
        "colab": {
          "base_uri": "https://localhost:8080/",
          "height": 534
        },
        "id": "foIblkEp2pkU",
        "outputId": "2e5a01f6-1bb7-436e-a578-8ba34a085d83"
      },
      "execution_count": 30,
      "outputs": [
        {
          "output_type": "display_data",
          "data": {
            "text/plain": [
              "<Figure size 1200x600 with 10 Axes>"
            ],
            "image/png": "[encoded data removed]"
          },
          "metadata": {}
        }
      ]
    }
  ]
}