{
  "nbformat": 4,
  "nbformat_minor": 0,
  "metadata": {
    "colab": {
      "provenance": []
    },
    "kernelspec": {
      "name": "python3",
      "display_name": "Python 3"
    },
    "language_info": {
      "name": "python"
    }
  },
  "cells": [
    {
      "cell_type": "code",
      "execution_count": 1,
      "metadata": {
        "id": "Gx9myzDHmx0y"
      },
      "outputs": [],
      "source": [
        "import numpy as np\n",
        "import pandas as pd\n",
        "import matplotlib.pyplot as plt\n",
        "\n",
        "import tensorflow as tf\n",
        "from tensorflow.keras.layers import Input, Dense,Reshape,Flatten\n",
        "from tensorflow.keras.models import Sequential\n",
        "\n",
        "%matplotlib inline"
      ]
    },
    {
      "cell_type": "markdown",
      "source": [
        "## MNIST dataset"
      ],
      "metadata": {
        "id": "sdMvNv80nIbU"
      }
    },
    {
      "cell_type": "code",
      "source": [
        "from tensorflow.keras.datasets import mnist\n",
        "\n",
        "(X_train, y_train), (X_test, y_test) = mnist.load_data()\n",
        "\n",
        "print(X_train.shape, y_train.shape)\n",
        "print(X_test.shape, y_test.shape)"
      ],
      "metadata": {
        "colab": {
          "base_uri": "https://localhost:8080/"
        },
        "id": "34WqMWnhmz2c",
        "outputId": "090ba696-9f2d-476d-c68a-f25b18a594b0"
      },
      "execution_count": 2,
      "outputs": [
        {
          "output_type": "stream",
          "name": "stdout",
          "text": [
            "(60000, 28, 28) (60000,)\n",
            "(10000, 28, 28) (10000,)\n"
          ]
        }
      ]
    },
    {
      "cell_type": "code",
      "source": [
        "_ = plt.imshow(X_train[0], cmap='Greys')"
      ],
      "metadata": {
        "colab": {
          "base_uri": "https://localhost:8080/",
          "height": 430
        },
        "id": "znb0BNWSmz5s",
        "outputId": "f1eed9a5-0f0a-4f54-b3f4-a1b415d7315e"
      },
      "execution_count": 3,
      "outputs": [
        {
          "output_type": "display_data",
          "data": {
            "text/plain": [
              "<Figure size 640x480 with 1 Axes>"
            ],
            "image/png": "[encoded data removed]"
          },
          "metadata": {}
        }
      ]
    },
    {
      "cell_type": "code",
      "source": [
        "y_train"
      ],
      "metadata": {
        "colab": {
          "base_uri": "https://localhost:8080/"
        },
        "id": "1NhMDfE6m0Aj",
        "outputId": "446583fb-15da-4814-d895-06a15c24f173"
      },
      "execution_count": 4,
      "outputs": [
        {
          "output_type": "execute_result",
          "data": {
            "text/plain": [
              "array([5, 0, 4, ..., 5, 6, 8], dtype=uint8)"
            ]
          },
          "metadata": {},
          "execution_count": 4
        }
      ]
    },
    {
      "cell_type": "markdown",
      "source": [
        "## Filtering out the Data for Faster Training on Smaller Dataset\n",
        "\n",
        "We are going to keep only the data that correspond to hand-written zeros. Zero is represented with a very distinct shape, thus making it easier for us to assess and visualize how close are the generated images to the real thing."
      ],
      "metadata": {
        "id": "2JP038tTqsLQ"
      }
    },
    {
      "cell_type": "code",
      "source": [
        "is_zero = y_train == 0\n",
        "\n",
        "X_train = X_train[is_zero]\n",
        "y_train = y_train[is_zero]\n",
        "\n",
        "print(X_train.shape, y_train.shape)"
      ],
      "metadata": {
        "colab": {
          "base_uri": "https://localhost:8080/"
        },
        "id": "bG3Pks_GqjoB",
        "outputId": "c1102400-598d-47b8-c88b-80132ba1a4d2"
      },
      "execution_count": 5,
      "outputs": [
        {
          "output_type": "stream",
          "name": "stdout",
          "text": [
            "(5923, 28, 28) (5923,)\n"
          ]
        }
      ]
    },
    {
      "cell_type": "code",
      "source": [
        "_ = plt.imshow(X_train[0], cmap='Greys')"
      ],
      "metadata": {
        "colab": {
          "base_uri": "https://localhost:8080/",
          "height": 430
        },
        "id": "6MIF89VZqjq5",
        "outputId": "abd28f93-cd47-4301-e95d-d58ff2a432b7"
      },
      "execution_count": 6,
      "outputs": [
        {
          "output_type": "display_data",
          "data": {
            "text/plain": [
              "<Figure size 640x480 with 1 Axes>"
            ],
            "image/png": "[encoded data removed]"
          },
          "metadata": {}
        }
      ]
    },
    {
      "cell_type": "markdown",
      "source": [
        "## Creating a Generative Adversarial Network Model"
      ],
      "metadata": {
        "id": "ShDieQoIsI5Z"
      }
    },
    {
      "cell_type": "code",
      "source": [
        "# For reproducibility\n",
        "tf.random.set_seed(42)\n",
        "\n",
        "codings_size = 100"
      ],
      "metadata": {
        "id": "PjN6EoNJqjtu"
      },
      "execution_count": 7,
      "outputs": []
    },
    {
      "cell_type": "code",
      "source": [
        "generator = Sequential()\n",
        "\n",
        "generator.add(Dense(100, activation=\"relu\", input_shape=[codings_size]))\n",
        "generator.add(Dense(150,activation='relu'))\n",
        "generator.add(Dense(784, activation=\"sigmoid\")) # 28*28 = 784\n",
        "generator.add(Reshape([28,28]))"
      ],
      "metadata": {
        "id": "ces_uvE7qjwP"
      },
      "execution_count": 8,
      "outputs": []
    },
    {
      "cell_type": "code",
      "source": [
        "discriminator = Sequential()\n",
        "\n",
        "discriminator.add(Flatten(input_shape=[28,28]))\n",
        "discriminator.add(Dense(150,activation='relu'))\n",
        "discriminator.add(Dense(100,activation='relu'))\n",
        "discriminator.add(Dense(1,activation=\"sigmoid\"))\n",
        "\n",
        "discriminator.compile(loss=\"binary_crossentropy\", optimizer=\"adam\")"
      ],
      "metadata": {
        "id": "swl8vrIDm0Dj"
      },
      "execution_count": 9,
      "outputs": []
    },
    {
      "cell_type": "code",
      "source": [
        "GAN = Sequential([generator, discriminator])\n",
        "\n",
        "discriminator.trainable = False\n",
        "\n",
        "GAN.compile(loss=\"binary_crossentropy\", optimizer=\"adam\")"
      ],
      "metadata": {
        "id": "xTxYB5Qtm0Gk"
      },
      "execution_count": 10,
      "outputs": []
    },
    {
      "cell_type": "code",
      "source": [
        "GAN.summary()"
      ],
      "metadata": {
        "colab": {
          "base_uri": "https://localhost:8080/"
        },
        "id": "znGNbXW1m0Lz",
        "outputId": "892df457-0f76-4ed8-cbf2-c5abe2af000e"
      },
      "execution_count": 11,
      "outputs": [
        {
          "output_type": "stream",
          "name": "stdout",
          "text": [
            "Model: \"sequential_2\"\n",
            "_________________________________________________________________\n",
            " Layer (type)                Output Shape              Param #   \n",
            "=================================================================\n",
            " sequential (Sequential)     (None, 28, 28)            143634    \n",
            "                                                                 \n",
            " sequential_1 (Sequential)   (None, 1)                 132951    \n",
            "                                                                 \n",
            "=================================================================\n",
            "Total params: 276585 (1.06 MB)\n",
            "Trainable params: 143634 (561.07 KB)\n",
            "Non-trainable params: 132951 (519.34 KB)\n",
            "_________________________________________________________________\n"
          ]
        }
      ]
    },
    {
      "cell_type": "markdown",
      "source": [
        "We can tell that our GAN consists of a generator model and a discriminator model using the ``layers`` attribute."
      ],
      "metadata": {
        "id": "VUXctihstYdH"
      }
    },
    {
      "cell_type": "code",
      "source": [
        "GAN.layers"
      ],
      "metadata": {
        "colab": {
          "base_uri": "https://localhost:8080/"
        },
        "id": "MleoBSmHm0JA",
        "outputId": "13f1c3b6-c9eb-4c64-87e1-28d68258b460"
      },
      "execution_count": 12,
      "outputs": [
        {
          "output_type": "execute_result",
          "data": {
            "text/plain": [
              "[<keras.src.engine.sequential.Sequential at 0x7fbc3a169270>,\n",
              " <keras.src.engine.sequential.Sequential at 0x7fbbb05fa5f0>]"
            ]
          },
          "metadata": {},
          "execution_count": 12
        }
      ]
    },
    {
      "cell_type": "code",
      "source": [
        "GAN.layers[0].summary() # This is the generator"
      ],
      "metadata": {
        "colab": {
          "base_uri": "https://localhost:8080/"
        },
        "id": "1knxq1rBs_JJ",
        "outputId": "1ebb95a1-9808-4f52-d34f-5126515e1947"
      },
      "execution_count": 13,
      "outputs": [
        {
          "output_type": "stream",
          "name": "stdout",
          "text": [
            "Model: \"sequential\"\n",
            "_________________________________________________________________\n",
            " Layer (type)                Output Shape              Param #   \n",
            "=================================================================\n",
            " dense (Dense)               (None, 100)               10100     \n",
            "                                                                 \n",
            " dense_1 (Dense)             (None, 150)               15150     \n",
            "                                                                 \n",
            " dense_2 (Dense)             (None, 784)               118384    \n",
            "                                                                 \n",
            " reshape (Reshape)           (None, 28, 28)            0         \n",
            "                                                                 \n",
            "=================================================================\n",
            "Total params: 143634 (561.07 KB)\n",
            "Trainable params: 143634 (561.07 KB)\n",
            "Non-trainable params: 0 (0.00 Byte)\n",
            "_________________________________________________________________\n"
          ]
        }
      ]
    },
    {
      "cell_type": "code",
      "source": [
        "GAN.layers[1].summary() # This is the discriminator"
      ],
      "metadata": {
        "colab": {
          "base_uri": "https://localhost:8080/"
        },
        "id": "cBTOrc2xs_Lx",
        "outputId": "b6f440d8-4a52-4787-95d2-28a0eaee5acb"
      },
      "execution_count": 14,
      "outputs": [
        {
          "output_type": "stream",
          "name": "stdout",
          "text": [
            "Model: \"sequential_1\"\n",
            "_________________________________________________________________\n",
            " Layer (type)                Output Shape              Param #   \n",
            "=================================================================\n",
            " flatten (Flatten)           (None, 784)               0         \n",
            "                                                                 \n",
            " dense_3 (Dense)             (None, 150)               117750    \n",
            "                                                                 \n",
            " dense_4 (Dense)             (None, 100)               15100     \n",
            "                                                                 \n",
            " dense_5 (Dense)             (None, 1)                 101       \n",
            "                                                                 \n",
            "=================================================================\n",
            "Total params: 132951 (519.34 KB)\n",
            "Trainable params: 0 (0.00 Byte)\n",
            "Non-trainable params: 132951 (519.34 KB)\n",
            "_________________________________________________________________\n"
          ]
        }
      ]
    },
    {
      "cell_type": "markdown",
      "source": [
        "## Setting up Training Batches"
      ],
      "metadata": {
        "id": "GoueF_tjtvYC"
      }
    },
    {
      "cell_type": "code",
      "source": [
        "batch_size = 32"
      ],
      "metadata": {
        "id": "6B7C7dv1s_PA"
      },
      "execution_count": 15,
      "outputs": []
    },
    {
      "cell_type": "code",
      "source": [
        "dataset = tf.data.Dataset.from_tensor_slices(X_train).shuffle(buffer_size=1000)"
      ],
      "metadata": {
        "id": "ctU_m6qJs_RJ"
      },
      "execution_count": 16,
      "outputs": []
    },
    {
      "cell_type": "code",
      "source": [
        "type(dataset)"
      ],
      "metadata": {
        "colab": {
          "base_uri": "https://localhost:8080/"
        },
        "id": "0ed4dB0Bs_T6",
        "outputId": "2792cdb2-8935-40d4-c12c-542244849b7e"
      },
      "execution_count": 17,
      "outputs": [
        {
          "output_type": "execute_result",
          "data": {
            "text/plain": [
              "tensorflow.python.data.ops.shuffle_op._ShuffleDataset"
            ]
          },
          "metadata": {},
          "execution_count": 17
        }
      ]
    },
    {
      "cell_type": "code",
      "source": [
        "dataset = dataset.batch(batch_size, drop_remainder=True).prefetch(1)"
      ],
      "metadata": {
        "id": "EMiJ_FXws_WW"
      },
      "execution_count": 18,
      "outputs": []
    },
    {
      "cell_type": "code",
      "source": [
        "epochs = 1"
      ],
      "metadata": {
        "id": "53jq6tOKs_Y9"
      },
      "execution_count": 19,
      "outputs": []
    },
    {
      "cell_type": "markdown",
      "source": [
        "## Training Loop\n",
        "\n",
        "**NOTE**: The generator never actually sees any real images. It learns by viewing the gradients going back through the discriminator. The better the discrimnator gets through training, the more information the discriminator contains in its gradients, which means the generator can begin to make progress in learning how to generate fake images, in our case, fake zeros."
      ],
      "metadata": {
        "id": "wdb5YgeEuKSB"
      }
    },
    {
      "cell_type": "code",
      "source": [
        "# Grab the seprate components\n",
        "generator, discriminator = GAN.layers\n",
        "\n",
        "# For every epcoh\n",
        "for epoch in range(epochs):\n",
        "    print(f\"Currently on Epoch {epoch+1}\")\n",
        "    i = 0\n",
        "\n",
        "    # For every batch in the dataset\n",
        "    for X_batch in dataset:\n",
        "        i += 1\n",
        "        if i%10 == 0:\n",
        "            print(f\"\\tCurrently on batch number {i} of {len(X_train)//batch_size}\")\n",
        "\n",
        "\n",
        "        #####################################\n",
        "        ##   TRAINING THE DISCRIMINATOR    ##\n",
        "        #####################################\n",
        "\n",
        "        # Create Noise\n",
        "        noise = tf.random.normal(shape=[batch_size, codings_size])\n",
        "\n",
        "        # Generate numbers based just on noise input\n",
        "        gen_images = generator(noise)\n",
        "\n",
        "        # Concatenate Generated Images against the Real Ones\n",
        "        # TO use tf.concat, the data types must match!\n",
        "        X_fake_vs_real = tf.concat([gen_images, tf.dtypes.cast(X_batch,tf.float32)], axis=0)\n",
        "\n",
        "        # Targets set to zero for fake images and 1 for real images\n",
        "        y1 = tf.constant([[0.]] * batch_size + [[1.]] * batch_size)\n",
        "\n",
        "        # This gets rid of a Keras warning\n",
        "        discriminator.trainable = True\n",
        "\n",
        "        # Train the discriminator on this batch\n",
        "        discriminator.train_on_batch(X_fake_vs_real, y1)\n",
        "\n",
        "\n",
        "        #####################################\n",
        "        ##     TRAINING THE GENERATOR      ##\n",
        "        #####################################\n",
        "\n",
        "        # Create some noise\n",
        "        noise = tf.random.normal(shape=[batch_size, codings_size])\n",
        "\n",
        "        # We want discriminator to belive that fake images are real\n",
        "        y2 = tf.constant([[1.]] * batch_size)\n",
        "\n",
        "        # Avois a warning\n",
        "        discriminator.trainable = False\n",
        "\n",
        "        GAN.train_on_batch(noise, y2)\n",
        "\n",
        "print(\"TRAINING COMPLETE\")"
      ],
      "metadata": {
        "colab": {
          "base_uri": "https://localhost:8080/"
        },
        "id": "qaP2wFx-s_bn",
        "outputId": "5c7357ba-2a9a-430a-f53a-cb8f5baa96ba"
      },
      "execution_count": 20,
      "outputs": [
        {
          "output_type": "stream",
          "name": "stdout",
          "text": [
            "Currently on Epoch 1\n",
            "\tCurrently on batch number 10 of 185\n",
            "\tCurrently on batch number 20 of 185\n",
            "\tCurrently on batch number 30 of 185\n",
            "\tCurrently on batch number 40 of 185\n",
            "\tCurrently on batch number 50 of 185\n",
            "\tCurrently on batch number 60 of 185\n",
            "\tCurrently on batch number 70 of 185\n",
            "\tCurrently on batch number 80 of 185\n",
            "\tCurrently on batch number 90 of 185\n",
            "\tCurrently on batch number 100 of 185\n",
            "\tCurrently on batch number 110 of 185\n",
            "\tCurrently on batch number 120 of 185\n",
            "\tCurrently on batch number 130 of 185\n",
            "\tCurrently on batch number 140 of 185\n",
            "\tCurrently on batch number 150 of 185\n",
            "\tCurrently on batch number 160 of 185\n",
            "\tCurrently on batch number 170 of 185\n",
            "\tCurrently on batch number 180 of 185\n",
            "TRAINING COMPLETE\n"
          ]
        }
      ]
    },
    {
      "cell_type": "markdown",
      "source": [
        "Let's test how good is the generator in generating fake zeros from noise."
      ],
      "metadata": {
        "id": "mi874sfjvcTX"
      }
    },
    {
      "cell_type": "code",
      "source": [
        "noise = tf.random.normal(shape=[10, codings_size])\n",
        "\n",
        "print(noise.shape)"
      ],
      "metadata": {
        "colab": {
          "base_uri": "https://localhost:8080/"
        },
        "id": "mTUFzbiIuSXo",
        "outputId": "2f48fbc7-64b4-4e7b-add0-3d42af4e785a"
      },
      "execution_count": 21,
      "outputs": [
        {
          "output_type": "stream",
          "name": "stdout",
          "text": [
            "(10, 100)\n"
          ]
        }
      ]
    },
    {
      "cell_type": "code",
      "source": [
        "_ = plt.imshow(noise)"
      ],
      "metadata": {
        "colab": {
          "base_uri": "https://localhost:8080/",
          "height": 113
        },
        "id": "VJzXPRziuSaG",
        "outputId": "8b8cff69-8dcd-4c8c-df8f-53411b6dc220"
      },
      "execution_count": 22,
      "outputs": [
        {
          "output_type": "display_data",
          "data": {
            "text/plain": [
              "<Figure size 640x480 with 1 Axes>"
            ],
            "image/png": "[encoded data removed]"
          },
          "metadata": {}
        }
      ]
    },
    {
      "cell_type": "code",
      "source": [
        "fake_zeros = generator(noise)"
      ],
      "metadata": {
        "id": "-w-y7kCwuSc9"
      },
      "execution_count": 23,
      "outputs": []
    },
    {
      "cell_type": "code",
      "source": [
        "fig, ax = plt.subplots(2,5, figsize=(12,6))\n",
        "fig.tight_layout()\n",
        "\n",
        "idx = 0\n",
        "for i in range(2):\n",
        "  for j in range(5):\n",
        "    ax[i,j].imshow(fake_zeros[idx], cmap='Greys')\n",
        "    idx += 1"
      ],
      "metadata": {
        "colab": {
          "base_uri": "https://localhost:8080/",
          "height": 534
        },
        "id": "kxXQbc08m0OK",
        "outputId": "0d987019-906c-41e1-e6a9-90e7f0d2a07f"
      },
      "execution_count": 25,
      "outputs": [
        {
          "output_type": "display_data",
          "data": {
            "text/plain": [
              "<Figure size 1200x600 with 10 Axes>"
            ],
            "image/png": "[encoded data removed]"
          },
          "metadata": {}
        }
      ]
    },
    {
      "cell_type": "markdown",
      "source": [
        "We see that the generator produces always the same zero (with only sublte diffrences in the color value of some pixels). That's because of mode collapse. The generator \"learnt\" which zero always fools the discriminator and it didn't bother learning any other kind of zeros."
      ],
      "metadata": {
        "id": "8mjjMOzRwfbk"
      }
    }
  ]
}